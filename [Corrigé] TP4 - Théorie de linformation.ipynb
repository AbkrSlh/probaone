{
 "cells": [
  {
   "cell_type": "markdown",
   "metadata": {},
   "source": [
    "# TP4 : Théorie de l'information"
   ]
  },
  {
   "cell_type": "markdown",
   "metadata": {},
   "source": [
    "L'objectif de ce TP est d'illustrer en particulier la sous-section 7.6.4 \"Pourquoi utiliser un dictionnaire ?\" du polycopié."
   ]
  },
  {
   "cell_type": "code",
   "execution_count": 1,
   "metadata": {},
   "outputs": [],
   "source": [
    "# Imports classiques\n",
    "import numpy as np\n",
    "import matplotlib.pyplot as plt"
   ]
  },
  {
   "cell_type": "markdown",
   "metadata": {},
   "source": [
    "On considère une source connue, markovienne en régime stationnaire, qui produit des messages de longueur $N$ fixée. On veut coder ces messages en mots de code composés de bits 0 ou 1, de sorte que ces messages codés (non cryptés) soient de longueur la plus courte possible en moyenne.\n",
    "\n",
    "Cela signifie que les messages sont en fait les trajectoires finies $X_1\\ldots X_N$ d'une chaîne de markov (concaténées en un mot), d'espace d'état un alphabet connu, de matrice de transition connue, et de probabilité initiale invariante connue."
   ]
  },
  {
   "cell_type": "markdown",
   "metadata": {},
   "source": [
    "On pourra choisir pour ce TP d'utiliser les valeurs suivantes : $N=30$, l'espace d'état de la chaîne de Markov est l'alphabet $\\{A, B, C\\}$, la matrice de transition est\n",
    "$$ P=\\begin{pmatrix} 0 & \\frac12 & \\frac12 \\\\ \\frac14 & \\frac12 & \\frac14 \\\\ \\frac14 & \\frac14 & \\frac12  \\end{pmatrix}, $$\n",
    "dont on a déjà calculé la probabilité invariante\n",
    "$$ \\pi = (1/5, 2/5, 2/5). $$\n",
    "\n",
    "Des messages pourront être simulés en utilisant votre code du TP3. Si besoin, on pourrat également vérifier que les algorithmes fonctionnent sur le message suivant :\n",
    "$$ CCACCBBACACBBBCCCABCACBBBACBBB $$"
   ]
  },
  {
   "cell_type": "code",
   "execution_count": 2,
   "metadata": {},
   "outputs": [],
   "source": [
    "N=30\n",
    "P=np.array([[0,.5,.5],[.25,.5,.25],[.25,.25,.5]])\n",
    "pinv=np.array([1/5,2/5,2/5])\n",
    "alph=\"ABC\"\n",
    "message = \"CCACCBBACACBBBCCCABCACBBBACBBB\""
   ]
  },
  {
   "cell_type": "markdown",
   "metadata": {},
   "source": [
    "## Exercice 1\n",
    "\n",
    "### Question 1\n",
    "\n",
    "Sur brouillon, indentifier un code de Huffman sur l'alphabet alph (le dictionnaire est l'alphabet), associé à la probabilité de codage pinv. Cela pourra se faire au moyen d'un arbre binaire (voir section 7.3 du cours, et 7.5 pour la définition du code de Huffman)"
   ]
  },
  {
   "cell_type": "markdown",
   "metadata": {},
   "source": [
    "On peut par exemple coder $B$ par 1, $C$ par 00 et $A$ par 01."
   ]
  },
  {
   "cell_type": "markdown",
   "metadata": {},
   "source": [
    "### Question 2\n",
    "\n",
    "Écrire deux fonctions codeur_Huffman_unitaire() et decodeur_Huffman_unitaire(), qui respectivement encode un unique symbole de l'alphabet selon le code de Huffamn de la question précédente, et décode le mot de code produit."
   ]
  },
  {
   "cell_type": "code",
   "execution_count": 3,
   "metadata": {},
   "outputs": [],
   "source": [
    "def codeur_Huffman_unitaire(symbole):\n",
    "    if symbole == 'B':\n",
    "        return '1'\n",
    "    elif symbole == 'A':\n",
    "        return '01'\n",
    "    elif symbole == 'C':\n",
    "        return '00'\n",
    "\n",
    "def decodeur_Huffman_unitaire(chaine):\n",
    "    if chaine[0] == '1':\n",
    "        return 'B'\n",
    "    elif chaine[1] == '1':\n",
    "        return 'A'\n",
    "    elif chaine[1] == '0':\n",
    "        return 'C'"
   ]
  },
  {
   "cell_type": "markdown",
   "metadata": {},
   "source": [
    "### Question 3\n",
    "\n",
    "Écrire une fonction codeur_Huffman() qui encode successivement les symboles d'un message (mot) et concatène les mots de codes obtenus en un seul message codé. Écrire sa réciproque decodeur_Huffman(). Tester votre production !"
   ]
  },
  {
   "cell_type": "code",
   "execution_count": 4,
   "metadata": {},
   "outputs": [],
   "source": [
    "def codeur_Huffman(mot):\n",
    "    code = ''\n",
    "    for c in mot:\n",
    "        code += codeur_Huffman_unitaire(c)\n",
    "    return code\n",
    "\n",
    "def decodeur_Huffman(code):\n",
    "    mot = ''\n",
    "    l = len(code)\n",
    "    i = 0\n",
    "    while i < l:\n",
    "        chaine = code[i:]\n",
    "        if chaine[0] == '1':\n",
    "            mot += 'B'\n",
    "            i += 1\n",
    "        elif chaine[1] == '1':\n",
    "            mot += 'A'\n",
    "            i += 2\n",
    "        elif chaine[1] == '0':\n",
    "            mot += 'C'\n",
    "            i += 2\n",
    "    return mot"
   ]
  },
  {
   "cell_type": "code",
   "execution_count": 5,
   "metadata": {},
   "outputs": [
    {
     "name": "stdout",
     "output_type": "stream",
     "text": [
      "0110010100110001110001100101100101\n",
      "ABCBACBBCABBCABCBABCBA\n",
      "ABCBACBBCABBCABCBABCBA\n"
     ]
    }
   ],
   "source": [
    "mot = 'ABCBACBBCABBCABCBABCBA'\n",
    "print(codeur_Huffman(mot))\n",
    "print(decodeur_Huffman(codeur_Huffman(mot)))\n",
    "print(mot)"
   ]
  },
  {
   "cell_type": "markdown",
   "metadata": {},
   "source": [
    "## Exercice 2 : Code arithmétique"
   ]
  },
  {
   "cell_type": "markdown",
   "metadata": {},
   "source": [
    "### Question 0 facultative, à faire à la fin s'il reste du temps\n",
    "\n",
    "Écrire une fonction check_parameters() qui prend en entrée un message (m, de type string), un alphabet (a, de type string), une matrice de transition (Q, de type np.ndarray) et une probabilité invariante (qinv, de type np.ndarray). La fonction doit vérifier\n",
    "- les types des arguments,\n",
    "- que l'alphabet ne contient qu'un fois chaque symbole,\n",
    "- que tous les symboles du message sont dans l'aphabet,\n",
    "- que ni le message ni l'alphabet ne sont vides,\n",
    "- que la matrice est bien une matrice de transition (y compris la positivité de toutes les cases),\n",
    "- que la proba est bien une proba, et est bien invariante.\n",
    "\n",
    "Si tout va bien, la fonction check_parameters() doit renvoyer la valeur entière 0, sinon toute autre valeur entière strictement positive de votre choix."
   ]
  },
  {
   "cell_type": "code",
   "execution_count": 6,
   "metadata": {},
   "outputs": [],
   "source": [
    "# à compléter\n",
    "def check_parameters(m, a, Q, qinv):\n",
    "    if type(m) != str or type(a) != str or type(Q) != np.ndarray or type(qinv) != np.ndarray:\n",
    "        return 1       # Problème de type dans les arguments\n",
    "    \n",
    "    for i in range(len(a)):\n",
    "        if a[i] in a[i+1:]:\n",
    "            return 2   #lettres non uniques dans l'alphabet\n",
    "    \n",
    "    for c in m:\n",
    "        if c not in a:\n",
    "            return 3   #lettres du messages pas dans l'alphabet\n",
    "    \n",
    "    if a == \"\" or m == \"\":\n",
    "        return 4       # alphabet ou message vide\n",
    "    \n",
    "    if not np.all(Q >= 0) or not np.all(np.sum(Q, axis = 1) == 1):\n",
    "        return 5       # pas une matrice de transition\n",
    "    \n",
    "    if not np.all(qinv >= 0) or np.sum(qinv) != 1 or not np.all(np.dot(qinv,Q) == qinv):\n",
    "        return 6       # pas une mesure de proba invariante    \n",
    "    \n",
    "    return 0\n"
   ]
  },
  {
   "cell_type": "code",
   "execution_count": 7,
   "metadata": {},
   "outputs": [
    {
     "data": {
      "text/plain": [
       "0"
      ]
     },
     "execution_count": 7,
     "metadata": {},
     "output_type": "execute_result"
    }
   ],
   "source": [
    "check_parameters(message, alph, P, pinv)"
   ]
  },
  {
   "cell_type": "markdown",
   "metadata": {},
   "source": [
    "Voici une description du codage arithmétique dans le cas d'un message issu d'une chaîne de Markov (librement adapté de http://www.ittc.ku.edu/~jsv/Papers/HoV94.arithmetic_codingOfficial.pdf, partie II - A. Vous trouverez des schémas explicatifs dans l'article).\n",
    "\n",
    "L'algorithme pour coder un message fonctionne de la manière suivante:\n",
    "1. On commence avec un intervalle $[\\text{début}, \\text{début} + \\text{précision}[$ initialisé à $[0,1[$\n",
    "2. Pour chaque lettre du message, on effectue deux étapes:\n",
    "    1. On divise l'intervalle actuel en sous-intervalles, un pour chaque lettre contenue dans l'alphabet. La taille de ces sous-intervalles est proportionnelle à la probabilité d'apparition de la lettre correspondante.\n",
    "    2. On sélectionne l'intervalle correspondant à la lettre lue, et on en fait le nouvel intervalle: on actualise les variables début et précision.\n",
    "3. On renvoie le point milieu du dernier intervalle avec un nombre de bits suffisant pour le distinguer des autres intervalles finaux possibles.\n",
    "\n",
    "Dans notre cas, le message est créé à partir d'une chaîne de Markov initialisée à la mesure invariante:\n",
    "- Pour le premier caractère, la probabilité d'apparition de chaque lettre correspond au coefficient associé dans la probabilité invariante.\n",
    "- Pour les caractères suivants, la probabilité d'apparition de chaque lettre est la probabilité de transition de la lettre précédente à celle-ci.\n",
    "\n",
    "La longueur de l'intervalle final (précision) est donc le produit des probabilités d'apparition de chaque lettre dans le message. L'étape finale utilise au plus $-\\lfloor \\log_2 p \\rfloor + 2$ bits pour distinguer le message codé des autres messages de même longueur.\n",
    "\n",
    "Dans l'étape 2, on a seulement besoin de calculer le sous-intervalle correspondant à la lettre $a_i$ qui apparaît. Pour cela, on peut utiliser la probabilité cumulée (avec $P(a_i) = p_i$, soit un coefficent de $Q$ soit de $q_{inv}$)\n",
    "$$\n",
    "P_C = \\sum_{k=1}^{i-1}p_k\n",
    "$$\n",
    "et la suivante \n",
    "$$\n",
    "P_N = P_C + p_i = \\sum_{k=1}^{i}p_k.\n",
    "$$\n",
    "\n",
    "Le nouveau sous-intervalle sera alors: $$[\\text{début} + P_C \\cdot \\text{précision} ; \\text{début} + P_N \\cdot \\text{précision}]$$. Les nouvelles valeurs de début et précision seront donc:\n",
    "$$\n",
    "\\text{début} = \\text{début} + P_C \\cdot \\text{précision} \\\\\n",
    "\\text{précision} = \\text{précision}\\cdot p_i\n",
    "$$"
   ]
  },
  {
   "cell_type": "markdown",
   "metadata": {},
   "source": [
    "### Question 1\n",
    "\n",
    "Lire attentivement le code suivant. Identifiez-vous chaque étape ?"
   ]
  },
  {
   "cell_type": "code",
   "execution_count": 8,
   "metadata": {},
   "outputs": [],
   "source": [
    "def codeur_arithmetique(message, a, Q, qinv):\n",
    "    if check_parameters(message, a, Q, qinv)!=0 :\n",
    "        raise Exception(\"Bah alors, qu'avez-vous foutu ?\")\n",
    "    # paramètres auxiliaires\n",
    "    cumQ = np.cumsum(Q,axis=1)\n",
    "    cumqinv=np.cumsum(qinv)\n",
    "    # Initialisation\n",
    "    lasti=-1\n",
    "    # règle de chaînage\n",
    "    for c in message:\n",
    "        i = a.find(c)\n",
    "        if lasti==-1:\n",
    "            debut = cumqinv[i] - qinv[i]\n",
    "            precision = qinv[i]\n",
    "        else:\n",
    "            debut = debut + precision*(cumQ[lasti,i] - Q[lasti,i])\n",
    "            precision = precision*Q[lasti,i]\n",
    "        lasti = i\n",
    "    # longueur de code\n",
    "    l = np.floor(- np.log2(precision)+2)\n",
    "    # nombre de code\n",
    "    res = int(np.floor(2**l*(debut+precision/2)))\n",
    "    # conversion en binaire\n",
    "    return np.binary_repr(res, width = int(l))\n"
   ]
  },
  {
   "cell_type": "code",
   "execution_count": 9,
   "metadata": {},
   "outputs": [
    {
     "data": {
      "text/plain": [
       "'11010111011101010111000111000010001010101100'"
      ]
     },
     "execution_count": 9,
     "metadata": {},
     "output_type": "execute_result"
    }
   ],
   "source": [
    "#codeur_arithmetique(message, alph, P, pinv)\n",
    "codeur_arithmetique(message,alph,P,pinv)"
   ]
  },
  {
   "cell_type": "markdown",
   "metadata": {},
   "source": [
    "### Question 2\n",
    "\n",
    "Écrire la fonction decodeur_arithmetique(). Ses arguments pourront être \n",
    "* la longueur n du message avant codage (pour vous faciliter la vie, vous pourriez vous en passer),\n",
    "* le message codé au format renvoyé par codeur_arithmetique(),\n",
    "* l'alphapet\n",
    "* la matrice de transition\n",
    "* la probabilité invariante\n",
    "\n",
    "La fonction decodeur_arithmetique() doit correctement renvoyer le message initial décodé, au format initial (string)."
   ]
  },
  {
   "cell_type": "code",
   "execution_count": 10,
   "metadata": {},
   "outputs": [],
   "source": [
    "# à compléter\n",
    "def decodeur_arithmetique(n, mcode, a, Q, qinv):\n",
    "    #parametres auxiliaires\n",
    "    cumQ = np.cumsum(Q,axis=1)\n",
    "    cumqinv=np.cumsum(qinv)    \n",
    "    #conversion en entier\n",
    "    l = len(mcode)\n",
    "    mcode = int(mcode,2)\n",
    "    message = \"\"\n",
    "    #initialisation\n",
    "    lasti = -1\n",
    "    debut = mcode*2**(-l)\n",
    "    for j in range(n):\n",
    "        i = 0\n",
    "        if lasti == -1:\n",
    "            while cumqinv[i]<debut:\n",
    "                i+=1\n",
    "            debut = (debut - cumqinv[i] + qinv[i])/qinv[i]\n",
    "        else:\n",
    "            while cumQ[lasti,i]<debut:\n",
    "                i+=1\n",
    "            debut = (debut - cumQ[lasti,i] + Q[lasti,i])/Q[lasti,i]\n",
    "        message += a[i]\n",
    "        lasti = i\n",
    "    return message"
   ]
  },
  {
   "cell_type": "code",
   "execution_count": 11,
   "metadata": {},
   "outputs": [
    {
     "name": "stdout",
     "output_type": "stream",
     "text": [
      "11010111011101010111000111000010001010101100\n",
      "CCACCBBACACBBBCCCABCACBBBACBBB\n",
      "CCACCBBACACBBBCCCABCACBBBACBBB\n",
      "True\n"
     ]
    }
   ],
   "source": [
    "# Tester votre fonction\n",
    "message = \"CCACCBBACACBBBCCCABCACBBBACBBB\"\n",
    "messageCode = codeur_arithmetique(message, alph, P, pinv)\n",
    "messageDecode = decodeur_arithmetique(len(message), messageCode, alph, P, pinv)\n",
    "# écrire un test ?\n",
    "print(messageCode)\n",
    "print(message)\n",
    "print(messageDecode)\n",
    "print(message == messageDecode)"
   ]
  },
  {
   "cell_type": "markdown",
   "metadata": {},
   "source": [
    "### Question 3 \n",
    "\n",
    "Comparez les longueurs de code obtenues dans les deux exercices"
   ]
  },
  {
   "cell_type": "code",
   "execution_count": 12,
   "metadata": {},
   "outputs": [
    {
     "name": "stdout",
     "output_type": "stream",
     "text": [
      "11010111011101010111000111000010001010101100\n",
      "000001000011010001001110000000110001001110100111\n"
     ]
    }
   ],
   "source": [
    "print(codeur_arithmetique(message, alph, P, pinv))\n",
    "print(codeur_Huffman(message))"
   ]
  },
  {
   "cell_type": "markdown",
   "metadata": {},
   "source": [
    "### Question 4 facultative\n",
    "\n",
    "Calculer la différence moyenne attendue entre les longueurs de code des deux exercices.\n",
    "\n",
    "Indication: le poly (sous-section 7.6.4) donne un différence moyenne approximative $I(X_1; \\ldots; X_n)$ (à affiner en calculant $\\delta$), et l'exercice 7.4 améliore la formule."
   ]
  },
  {
   "cell_type": "code",
   "execution_count": null,
   "metadata": {},
   "outputs": [],
   "source": []
  },
  {
   "cell_type": "markdown",
   "metadata": {},
   "source": [
    "## Exercice 3\n",
    "\n",
    "*Amusez-vous !*\n",
    "\n",
    "Pistes~:\n",
    "- comparer les longueurs de code obtenues dans les deux exercices sur différents messages issus de la même source (une procédure d'estimation par Monte-Carlo est envisageable) ;\n",
    "- essayer avec différentes sources ;\n",
    "- faire la question 0 de l'exercice 1 ;\n",
    "- etc."
   ]
  },
  {
   "cell_type": "code",
   "execution_count": null,
   "metadata": {},
   "outputs": [],
   "source": []
  },
  {
   "cell_type": "code",
   "execution_count": null,
   "metadata": {},
   "outputs": [],
   "source": []
  },
  {
   "cell_type": "code",
   "execution_count": null,
   "metadata": {},
   "outputs": [],
   "source": []
  }
 ],
 "metadata": {
  "kernelspec": {
   "display_name": "Python 3 (ipykernel)",
   "language": "python",
   "name": "python3"
  },
  "language_info": {
   "codemirror_mode": {
    "name": "ipython",
    "version": 3
   },
   "file_extension": ".py",
   "mimetype": "text/x-python",
   "name": "python",
   "nbconvert_exporter": "python",
   "pygments_lexer": "ipython3",
   "version": "3.10.12"
  }
 },
 "nbformat": 4,
 "nbformat_minor": 2
}
