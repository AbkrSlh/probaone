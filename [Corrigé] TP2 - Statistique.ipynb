{
 "cells": [
  {
   "cell_type": "markdown",
   "id": "90d03007",
   "metadata": {},
   "source": [
    "# TP2 : Statististiques élémentaires, loi des grands nombres et intervalles de confiance"
   ]
  },
  {
   "cell_type": "markdown",
   "id": "d5add66b",
   "metadata": {},
   "source": [
    "Dans ce second TP, on va s'intéresser plus en détail à des résultats classiques de statistiques, notamment en ce qui concerne l'approximation de l'espérance d'une variable aléatoire.\n",
    "\n",
    "Commençons par charger les bibliothèques standard dont nous aurons besoin."
   ]
  },
  {
   "cell_type": "code",
   "execution_count": 1,
   "id": "9eea5474",
   "metadata": {},
   "outputs": [],
   "source": [
    "%matplotlib inline\n",
    "\n",
    "import numpy as np\n",
    "import matplotlib.pyplot as plt"
   ]
  },
  {
   "cell_type": "markdown",
   "id": "d3c4c23b",
   "metadata": {},
   "source": [
    "## 1. Lecture graphique des quantiles sur la fonction de répartition théorique"
   ]
  },
  {
   "cell_type": "markdown",
   "id": "977bda6e",
   "metadata": {},
   "source": [
    "La fonction de répartition théorique d'une variable aléatoire $X$ est la fonction de $\\mathbb{R}$ dans $[0, 1]$ définie par, \n",
    "$$\n",
    "F_X(t) \\ = \\ \\mathbb{P}(X \\leq t), \\qquad \\forall t \\in \\mathbb{R}. \n",
    "$$\n",
    "Le code suivant affiche la fonction de répartition théorique d'une loi Binomiale."
   ]
  },
  {
   "cell_type": "code",
   "execution_count": 2,
   "id": "7be41d8f",
   "metadata": {},
   "outputs": [
    {
     "data": {
      "image/png": "[encoded data removed]",
      "text/plain": [
       "<Figure size 432x288 with 1 Axes>"
      ]
     },
     "metadata": {
      "needs_background": "light"
     },
     "output_type": "display_data"
    }
   ],
   "source": [
    "from math import comb\n",
    "# comb(n,k) retourne le coefficient binômial « k parmi n ».\n",
    "\n",
    "def binom(n,p,k):\n",
    "    if k <= n and k >= 0 :\n",
    "        return comb(n,k)*p**k*(1-p)**(n-k)\n",
    "    else:\n",
    "        return 0\n",
    "\n",
    "n=30\n",
    "p=.3\n",
    "\n",
    "X = np.arange(n+1)\n",
    "P = [binom(n,p,k) for k in X]\n",
    "\n",
    "X = range(-1,n+2)\n",
    "Y = [0]\n",
    "\n",
    "# On crée les probabilités cumulées en sommant sur la distribution P déjà calculée.\n",
    "for x in P:\n",
    "    Y.append(Y[-1]+x)\n",
    "\n",
    "\n",
    "plt.xticks(X)\n",
    "plt.grid(linestyle='dotted')\n",
    "\n",
    "# On affiche itérativement les segments.\n",
    "\n",
    "plt.plot((X[0],X[1]),(Y[0],Y[0]),color='r')\n",
    "\n",
    "for i in range(1,n+2):\n",
    "    plt.plot((X[i],X[i]),(Y[i-1],Y[i]),color='r',linestyle='dotted')\n",
    "    plt.scatter([X[i]],[Y[i]],marker='o',color='r')\n",
    "    plt.plot((X[i],X[i+1]),(Y[i],Y[i]),color='r')\n",
    "\n",
    "plt.xlim(-1,n+1)\n",
    "plt.ylim(-0.1,1.1)\n",
    "\n",
    "plt.plot([-1,n+1],[0,0],color='c',linestyle='dotted')\n",
    "plt.plot([-1,n+1],[1,1],color='c',linestyle='dotted')\n",
    "\n",
    "plt.xlabel('x')\n",
    "plt.ylabel('P(X <= x)')\n",
    "plt.title('Fonction de répartition théorique de la loi de X~B('+str(n)+','+str(p)+')')\n",
    "\n",
    "# Code à compléter\n",
    "\n",
    "plt.axhline(0.5)\n",
    "plt.axhline(0.25)\n",
    "plt.axhline(0.75)\n",
    "plt.show()"
   ]
  },
  {
   "cell_type": "markdown",
   "id": "e5d0aa4e",
   "metadata": {},
   "source": [
    "On se propose désormais de compléter le code pour afficher les droites horizontales correspondants au premier quartile, au troisième quartile et à la médiane. Comment lit-on graphiquement ces données ?\n",
    "\n",
    "<details>\n",
    "<summary><b>Cliquer ici pour afficher la réponse.</b></summary>\n",
    "\n",
    "Il suffit de regarder où les droites horizontales traverse la fonction de répartition. Si cette droite traverse un saut de la fonction (en pointillés rouge dans la correction indicative), on considère que l'intersection a lieu à cette position.\n",
    "En revanche, si notre droite tombe pile sur une partie constante de la fonction, il n'y a pas façon uniquement déterminée de choisir le quantile, et on peut arrondir à droite, à gauche ou faire une moyenne.\n",
    "On fera ici le choix de convention de l'arrondi à gauche.\n",
    "</details>"
   ]
  },
  {
   "cell_type": "code",
   "execution_count": 3,
   "id": "eea3099d",
   "metadata": {},
   "outputs": [],
   "source": [
    "# À vous de jouer !"
   ]
  },
  {
   "cell_type": "markdown",
   "id": "30a7c063",
   "metadata": {},
   "source": [
    "# Solution :\n",
    "On trouve comme quantiles: 7, 9 et 11"
   ]
  },
  {
   "cell_type": "markdown",
   "id": "e5fb89f7",
   "metadata": {},
   "source": [
    "## 2. Étude de la loi binomiale et diagrammes en boîte à moustache"
   ]
  },
  {
   "cell_type": "markdown",
   "id": "af6f360a",
   "metadata": {},
   "source": [
    "On va premièrement utiliser le module `numpy` pour étudier quelques propriétés empirique d'un échantillon aléatoire."
   ]
  },
  {
   "cell_type": "markdown",
   "id": "45cae713",
   "metadata": {},
   "source": [
    "**Exercice 1 :**\n",
    "\n",
    "1. Créer un échantillon de taille `n=10` d'une loi binomiale $\\mathcal{B}(30,0.3)$ dans le bloc 1.\n",
    "2. Calculer sa moyenne (empirique) `m1` (avec la fonction `np.average`) et son écart-type (empirique) `s1` (avec `np.std`) dans le bloc 2.\n",
    "4. Calculer la liste des quartiles `Q1` (avec la fonction `np.quantile`).\n",
    "5. Répéter les questions précédentes dans le bloc 3, avec un échantillon de taille $100$ (dans des variables `m2`, `s2` et `Q2`), puis $1000$ (dans des variables `m3`, `s3` et `Q3`).\n",
    "6. Comparer les résultats avec la valeur théorique attendue dans le bloc 4."
   ]
  },
  {
   "cell_type": "code",
   "execution_count": 4,
   "id": "2d97075a",
   "metadata": {},
   "outputs": [],
   "source": [
    "### BLOC 1 ###\n",
    "\n",
    "n1 = 10\n",
    "\n",
    "def echantillon(n):\n",
    "    L=np.random.binomial(30,0.3, size = n)\n",
    "    # Code à compléter\n",
    "    return L\n",
    "\n",
    "L1 = echantillon(n)"
   ]
  },
  {
   "cell_type": "code",
   "execution_count": 5,
   "id": "035a38b9",
   "metadata": {},
   "outputs": [
    {
     "name": "stdout",
     "output_type": "stream",
     "text": [
      "9.166666666666666 2.781885851160843 [ 7.  9. 11.]\n"
     ]
    }
   ],
   "source": [
    "### BLOC 2 ###\n",
    "\n",
    "m1 = np.average(L1)\n",
    "s1 = np.std(L1)\n",
    "Q1 = np.quantile(L1,[0.25,0.5,0.75])\n",
    "\n",
    "print(m1,s1,Q1)"
   ]
  },
  {
   "cell_type": "code",
   "execution_count": 6,
   "id": "f9595206",
   "metadata": {},
   "outputs": [],
   "source": [
    "### BLOC 3 ###\n",
    "\n",
    "n2 = 100\n",
    "L2 = echantillon(n2)\n",
    "\n",
    "m2 = np.average(L2)\n",
    "s2 = np.std(L2)\n",
    "Q2 = np.quantile(L2,[0.25,0.5,0.75])\n",
    "\n",
    "n3 = 10000\n",
    "L3 = echantillon(n3)\n",
    "\n",
    "m3 = np.average(L3)\n",
    "s3 = np.std(L3)\n",
    "Q3 = np.quantile(L3,[0.25,0.5,0.75])"
   ]
  },
  {
   "cell_type": "code",
   "execution_count": 7,
   "id": "787220ee",
   "metadata": {},
   "outputs": [
    {
     "name": "stdout",
     "output_type": "stream",
     "text": [
      "9.166666666666666 2.781885851160843 [ 7.  9. 11.]\n",
      "9.46 2.586194114910944 [ 8.  9. 11.]\n",
      "8.9787 2.5148054218964933 [ 7.  9. 11.]\n",
      "Valeurs théoriques\n",
      "9.0 2.5099800796022267 [7, 9, 11]\n"
     ]
    }
   ],
   "source": [
    "### BLOC 4 ###\n",
    "print(m1,s1,Q1)\n",
    "print(m2,s2,Q2)\n",
    "print(m3,s3,Q3)\n",
    "print(\"Valeurs théoriques\")\n",
    "print(30*0.3, np.sqrt(30*0.3*0.7),[7,9,11])"
   ]
  },
  {
   "cell_type": "markdown",
   "id": "5a9e5cd3",
   "metadata": {},
   "source": [
    "Les diagrammes en boîte à moustaches (*box plot* en anglais) permettent, dans une certaine mesure, de représenter graphiquement les quantiles d'une distribution.\n",
    "On peut afficher un boxplot via la fonction `plt.boxplot(L,labels=[mot])`, où `L` est un échantillon aléatoire, et `mot` le mot (optionnel) correspondant sur l'axe horizontal. Si on veut juxtaposer plusieurs boîtes, on remplacera `L` par une *liste* d'échantillons (donc une *liste de listes*), et on affectera une liste de mots à `label`.\n",
    "\n",
    "**Exercice 2 :**\n",
    "\n",
    "1. Afficher le boxplot correspondant aux échantillons `L1`, `L2` et `L3` précédemment générés.\n",
    "2. Afficher les droites horizontales correspondant aux valeurs théoriques des quantiles observées dans la première partie."
   ]
  },
  {
   "cell_type": "code",
   "execution_count": 8,
   "id": "6f92a9da",
   "metadata": {},
   "outputs": [
    {
     "data": {
      "image/png": "[encoded data removed]",
      "text/plain": [
       "<Figure size 432x288 with 1 Axes>"
      ]
     },
     "metadata": {
      "needs_background": "light"
     },
     "output_type": "display_data"
    }
   ],
   "source": [
    "# À vous de jouer !\n",
    "plt.boxplot([L1,L2,L3], labels = [\"n=10\", \"n=100\", \"n=1000\"])\n",
    "plt.axhline(7)\n",
    "plt.axhline(9)\n",
    "plt.axhline(11)\n",
    "plt.show()"
   ]
  },
  {
   "cell_type": "code",
   "execution_count": 9,
   "id": "eeaf03a6",
   "metadata": {},
   "outputs": [],
   "source": [
    "# Solution"
   ]
  },
  {
   "cell_type": "markdown",
   "id": "3aeab6eb",
   "metadata": {},
   "source": [
    "La boite centrale correspondant à un échantillon représente les quartiles empiriques, avec la médiane au milieu.\n",
    "Ainsi, on constate que lorsque la taille de l'échantillon devient assez grande, ces quartiles semblent converger vers les valeurs théoriques attendues.\n",
    "\n",
    "Le comportement des moustaches est un peu plus subtil. Par défaut, leur longueur est déterminée par la taille de la boite centrale et les aberrations qui en sortent sont représentés par des points. Cependant, si aucune valeur ne dépasse de la moustache dans une des directions, alors la moustache en question est raccourcie pour s'arrêter au minimum/maximum de l'échantillon. Une définition plus précise des boîtes des disponible dans [la documentation](https://matplotlib.org/stable/api/_as_gen/matplotlib.pyplot.boxplot.html).\n",
    "\n",
    "Le point à retenir est que la *taille* de la boite et de ses moustaches n'est pas un indicateur de la qualité d'approximmation, puisqu'elle aura tendance à grandir jusqu'à seuil, alors même qu'on constate empiriquement que la qualité d'approximmation des quarties *augmente* avec la taille de l'échantillon."
   ]
  },
  {
   "cell_type": "markdown",
   "id": "172b61a9",
   "metadata": {},
   "source": [
    "## 3. Loi des grands nombres et méthode de Monte-Carlo"
   ]
  },
  {
   "cell_type": "markdown",
   "id": "595aa284",
   "metadata": {},
   "source": [
    "On joue à pile où face avec une pièce truquée, dont la probabilité $p$ de tomber sur pile est inconnue. La liste suivante `unfair` représente les lancers successifs de 150 fois cette pièce truquée (avec 1 pour pile et 0 pour face).  "
   ]
  },
  {
   "cell_type": "code",
   "execution_count": 10,
   "id": "ace00b7e",
   "metadata": {},
   "outputs": [],
   "source": [
    "unfair=np.array([1, 0, 0, 0, 0, 1, 0, 1, 0, 1, 0, 0, 0, 0, 0, 1, 1, 0, 1, 1, 0, 0,\n",
    "       1, 1, 0, 0, 0, 1, 0, 1, 0, 0, 0, 0, 1, 0, 0, 0, 1, 0, 0, 0, 1, 0,\n",
    "       1, 1, 0, 0, 0, 1, 0, 1, 1, 1, 1, 0, 1, 1, 0, 0, 0, 1, 0, 0, 0, 0,\n",
    "       0, 1, 0, 0, 1, 1, 0, 1, 0, 0, 1, 0, 0, 0, 0, 1, 0, 0, 1, 0, 0, 0,\n",
    "       0, 0, 0, 1, 0, 0, 0, 1, 0, 0, 1, 0, 0, 1, 1, 0, 0, 1, 0, 0, 0, 1,\n",
    "       1, 1, 1, 0, 1, 0, 0, 1, 0, 0, 1, 1, 0, 0, 1, 0, 0, 0, 1, 0, 1, 0,\n",
    "       0, 0, 0, 0, 0, 1, 0, 1, 0, 0, 0, 0, 0, 0, 0, 0, 1, 0])"
   ]
  },
  {
   "cell_type": "markdown",
   "id": "bf1fe9aa",
   "metadata": {},
   "source": [
    "Pouvez-vous estimer la probabilité de tomber sur pile $p$ ?"
   ]
  },
  {
   "cell_type": "code",
   "execution_count": 11,
   "id": "759427b7",
   "metadata": {},
   "outputs": [
    {
     "name": "stdout",
     "output_type": "stream",
     "text": [
      "0.3466666666666667\n"
     ]
    }
   ],
   "source": [
    "# Solution\n",
    "p = np.count_nonzero(unfair==1)/len(unfair)\n",
    "p = np.sum(unfair)/len(unfair)\n",
    "p = np.mean(unfair)\n",
    "print(p)"
   ]
  },
  {
   "cell_type": "markdown",
   "id": "a37f1bfb",
   "metadata": {},
   "source": [
    "On va illustrer plus généralement ce phénomène, dit de la loi des grands nombres et de la méthode de Monte-Carlo. "
   ]
  },
  {
   "cell_type": "markdown",
   "id": "25d34ef4",
   "metadata": {},
   "source": [
    "**Théorème : Loi des Grands Nombres (LGN)**\n",
    "\n",
    "Considérons $\\left(X_i\\right)_{i\\in\\mathbb{N}^*}$ une suite de variables aléatoires réelles i.i.d. et intégrables, c'est-à-dire $\\mathbb{E}\\left[\\left|X_1\\right|\\right]<\\infty$. Posons alors $\\mu:=\\mathbb{E}\\left[X_1\\right]$ leur espérance commune.\n",
    "On définit les moyennes empiriques (aléatoires) comme suit:\n",
    "$$\n",
    "\\overline{X_n}:=\\frac{1}{n}\\sum\\limits_{i=1}^{n} X_i .\n",
    "$$\n",
    "On a alors la convergence en probabilité (LGN faible) : $\\overline{X_n}\\overset{\\mathbb{P}}{\\longrightarrow}\\mu$, c'est-à-dire : pour tout $\\varepsilon>0$,\n",
    "$$\n",
    "\\lim_{n\\to\\infty} \\mathbb P(|\\overline X_n - \\mu|>\\varepsilon) =0. \n",
    "$$"
   ]
  },
  {
   "cell_type": "markdown",
   "id": "c9135cd7",
   "metadata": {},
   "source": [
    "Ainsi, quand $n$ est grand, on peut estimer numériquement l'espérance d'une variable aléatoire à partir de la moyenne empirique $\\overline X_n$ de la suite finie $(X_k)_{1\\leq k\\leq n}$. C'est le principe de la méthode dite de Monte-Carlo.\n",
    "\n",
    "Que se passe-t-il si on fait augmenter $n$ ? On étudie alors une trajectoire de la moyenne empirique $\\overline X_n$, c'est-à-dire une suite de réalisations $\\overline x_n = \\overline X_n(\\omega)$ observée lors de l'expérience aléatoire. La LGN faible exposée ci-dessus offre une garantie ponctuelle : individuellement, pour $n$ assez grand, les moyennes empiriques $\\overline X_n$ ont de grande chance d'être proches de la moyenne théorique $\\mu$.\n",
    "\n",
    "En revanche la LGN faible n'apporte aucune garantie sur la convergence de la trajectoire observée $(\\overline x_n)_n$. Pour cela on dispose de la convergence presque sûre (LGN forte) : $\\overline{X_n}\\overset{\\mathrm{p.s.}}{\\longrightarrow}\\mu$, c'est-à-dire\n",
    "$$\n",
    "\\mathbb P\\left(\\left\\{\\omega\\in\\Omega : \\big(\\overline X_n(\\omega)\\big)_{n} \\longrightarrow \\mu \\right\\}\\right) = 1. %\\underset{n\\to\\infty}{\\longrightarrow}\n",
    "$$"
   ]
  },
  {
   "cell_type": "markdown",
   "id": "486c93f2",
   "metadata": {},
   "source": [
    "**Exercice 3 :**\n",
    "\n",
    "On veut ici observer et représenter graphiquement cette convergence des moyennes empiriques pour une loi géométrique de paramètre `p=0.1`.\n",
    "1. Dans le bloc 1, complétez le code pour que la fonction echantillon retourne un vecteur de $k$ tirages indépendants sous la loi géométrique (on pourra utiliser la bibliothèque `np.random`).\n",
    "2. Dans le bloc 2, complétez le code pour que la fonction moyennes_empiriques retourne le vecteur `M` des moyennes empiriques associées aux troncatures successives d'un échantillon `L` à ses premières valeurs. Par exemple, pour un échantillon `L = [3, 1, 4, 2]`, la fonction moyennes_empiriques retournera le vecteur des moyennes empiriques des échantillons `[3]`, `[3, 1]`, `[3, 1, 4]` et `[3, 1, 4, 2]`.\n",
    "3. Dans le bloc 3, afficher la droite horizontale d'équation $y=\\mu$ et un nuage de points (avec [`plt.scatter`](https://matplotlib.org/stable/api/_as_gen/matplotlib.pyplot.scatter.html)) aux coordonnées $\\left(i,\\overline{X_i}\\right)_{1\\leq i \\leq 100}$.\n",
    "4. Faites varier la valeur de `p` utilisée dans le bloc 1. Que constatez-vous ?\n",
    "5. À `p` fixé, illustrez la convergence presque sûre prédite par la loi forte des grands nombres à l'aide de (plusieurs) trajectoires.\n",
    "6. En vous inspirant de l'exercice 2, illustrez la convergence en probabilité à l'aide de boîtes à moustaches. On affichera au plus dix boîtes."
   ]
  },
  {
   "cell_type": "code",
   "execution_count": 12,
   "id": "2baa628e",
   "metadata": {},
   "outputs": [],
   "source": [
    "### BLOC 1 ###\n",
    "\n",
    "p = 0.1\n",
    "k = 100\n",
    "\n",
    "def echantillon(k):\n",
    "    L = np.random.geometric(p,size = k)\n",
    "    return L"
   ]
  },
  {
   "cell_type": "code",
   "execution_count": 13,
   "id": "fad4b929",
   "metadata": {},
   "outputs": [
    {
     "name": "stdout",
     "output_type": "stream",
     "text": [
      "[1.0, 1.5, 2.0, 2.5]\n"
     ]
    }
   ],
   "source": [
    "### BLOC 2 ###\n",
    "\n",
    "def moyennes_empiriques(L):\n",
    "    M = [np.mean(L[:i+1]) for i in range(len(L))]\n",
    "    # M = np.cumsum(L)/np.arange(1,len(L)+1)\n",
    "    return M\n",
    "\n",
    "print(moyennes_empiriques([1,2,3,4]))"
   ]
  },
  {
   "cell_type": "code",
   "execution_count": 14,
   "id": "a7dd1dba",
   "metadata": {},
   "outputs": [
    {
     "data": {
      "image/png": "[encoded data removed]",
      "text/plain": [
       "<Figure size 432x288 with 1 Axes>"
      ]
     },
     "metadata": {
      "needs_background": "light"
     },
     "output_type": "display_data"
    }
   ],
   "source": [
    "### BLOC 3 ###\n",
    "p = 0.1\n",
    "k = 100\n",
    "L = echantillon(k)\n",
    "M = moyennes_empiriques(L)\n",
    "\n",
    "plt.axhline(1/p)\n",
    "plt.scatter(range(k),M)\n",
    "\n",
    "plt.show()\n",
    "\n",
    "# À vous de jouer."
   ]
  },
  {
   "cell_type": "code",
   "execution_count": 15,
   "id": "486de61d",
   "metadata": {},
   "outputs": [
    {
     "data": {
      "image/png": "[encoded data removed]",
      "text/plain": [
       "<Figure size 432x288 with 1 Axes>"
      ]
     },
     "metadata": {
      "needs_background": "light"
     },
     "output_type": "display_data"
    }
   ],
   "source": [
    "### BLOC 4 ###: plusieurs trajectoires\n",
    "p = 0.1\n",
    "k = 100\n",
    "for i in range(5):\n",
    "    L = echantillon(k)\n",
    "    M = moyennes_empiriques(L)\n",
    "    plt.scatter(range(k),M)\n",
    "\n",
    "plt.axhline(1/p)\n",
    "plt.show()\n",
    "# À vous de jouer."
   ]
  },
  {
   "cell_type": "code",
   "execution_count": 16,
   "id": "3f60535c",
   "metadata": {},
   "outputs": [
    {
     "data": {
      "image/png": "[encoded data removed]",
      "text/plain": [
       "<Figure size 432x288 with 1 Axes>"
      ]
     },
     "metadata": {
      "needs_background": "light"
     },
     "output_type": "display_data"
    }
   ],
   "source": [
    "### BLOC 5 ###\n",
    "p = 0.1\n",
    "k = 100 #longueur de chaque trajectoire\n",
    "m = 20 #nombre de trajectoires\n",
    "listeM = []\n",
    "for i in range(m):\n",
    "    L = echantillon(k)\n",
    "    M = moyennes_empiriques(L)\n",
    "    listeM.append(M)\n",
    "\n",
    "listeM = np.array(listeM)\n",
    "Quartile1 = np.quantile(listeM, 0.25, axis = 0)\n",
    "Quartile2 = np.quantile(listeM, 0.5, axis = 0)\n",
    "Quartile3 = np.quantile(listeM, 0.75, axis = 0)\n",
    "plt.plot(range(k),Quartile1)\n",
    "plt.plot(range(k),Quartile2)\n",
    "plt.plot(range(k),Quartile3)\n",
    "listePositions = [k//4,2*k//4,3*k//4,k-1]\n",
    "plt.boxplot(listeM[:,listePositions], positions = listePositions, widths = 5)\n",
    "plt.show()"
   ]
  },
  {
   "cell_type": "code",
   "execution_count": 17,
   "id": "39b13c4a",
   "metadata": {},
   "outputs": [],
   "source": [
    "# Solution"
   ]
  },
  {
   "cell_type": "markdown",
   "id": "84be2955",
   "metadata": {},
   "source": [
    "**Fonction de répartition empirique**\n",
    "\n",
    "La fonction de répartition empirique $F_\\mathbf{x}^n$ d'une série statistique $\\mathbf{x}=(x_1, \\ldots, x_n)$ est la fonction de répartition de la mesure empirique :\n",
    "$$\n",
    "\\forall t\\in\\mathbb R,\\, \\ F_\\mathbf{x}^n(t) \\ := \\ \\frac{\\text{Card}\\{i\\in \\{1,\\ldots,n\\} \\, | \\, x_i\\leq t\\}}{n} \\ = \\ \\sum_{\\substack{k \\in \\{x_i : 1\\leq i\\leq n\\} \\\\ k \\leq t}}  q_n(k),\n",
    "$$\n",
    "où $q_n(k)$ est la fréquence empirique de l'atome $k$ : $$ q_n(k) \\ := \\ \\frac{\\text{Card}\\{i\\in \\{1,\\ldots,n\\} \\, | \\, x_i=k\\}}{n}. $$\n",
    "\n",
    "Supposons que la série statistique $\\mathbf{x}=(x_1, \\ldots, x_n)$ est en fait formée des $n$ premiers éléments de la réalisation d'une suite de varaibles aléatoires iid $\\mathbf{X}=(X_i)_{i \\in \\mathbb{N}^*}$, dont la loi est discrète à valeur dans $\\mathbb{N}$. Dans ce cadre mesure empirique et fonction de répartition empirique sont elles-mêmes aléatoires. \n",
    "\n",
    "Alors la loi (forte) des grands nombres permet d'affirmer que la fréquence empirique d'un entier $k \\in \\mathbb{N}$ tend presque sûrement vers $\\mathbb{P}(X_1 = k)$, i.e.,\n",
    "$$\n",
    "Q_n(k) \\ := \\ \\frac{\\text{Card}\\{i\\in \\{1,\\ldots,n\\} \\, | \\, X_i=k\\}}{n} \\ \\overset{p.s.}{\\underset{n \\to \\infty}{\\longrightarrow}} \\ \\mathbb{P}(X_1 = k).\n",
    "$$\n",
    "\n",
    "<details>\n",
    "<summary><b>Cliquer ici pour afficher un indice.</b></summary>\n",
    "Écrire $Q_n(k) = \\frac1n \\sum_{i = 1}^{n} \\mathbb{1}_{\\{k\\}}(X_i)$ et $\\mathbb{E}[\\mathbb{1}_{\\{k\\}}(X_i)] = \\mathbb{P}(X_1 = k)$ puis appliquer la LGN.\n",
    "</details>\n",
    "\n",
    "De même, la fonction de répartition empirique au rang $n$ de la loi de la suite $(X_i)_{i \\in \\mathbb{N}^*}$, notée $F_\\mathbf{X}^n$, converge presque sûrement uniformément vers la fonction de répartition théorique $F_{X_1}$."
   ]
  },
  {
   "cell_type": "markdown",
   "id": "84cc0ead",
   "metadata": {},
   "source": [
    "**Exercice 4 :**\n",
    "\n",
    "1. Réutilisez les programmes de la section 6 du TP1 et affichez la fonction de répartition empirique de la suite $(X_i)_{i \\in \\mathbb{N}^*}$\n",
    "\n",
    "2. Comparez avec la fonction de répartition théorique."
   ]
  },
  {
   "cell_type": "code",
   "execution_count": 18,
   "id": "7b05ad9b",
   "metadata": {},
   "outputs": [
    {
     "data": {
      "image/png": "[encoded data removed]",
      "text/plain": [
       "<Figure size 432x288 with 1 Axes>"
      ]
     },
     "metadata": {
      "needs_background": "light"
     },
     "output_type": "display_data"
    }
   ],
   "source": [
    "n=30\n",
    "p=.3\n",
    "\n",
    "\n",
    "### Fonction de répartition théorique\n",
    "X = np.arange(n+1)\n",
    "P = [binom(n,p,k) for k in X]\n",
    "\n",
    "X = range(-1,n+2)\n",
    "Y = [0]\n",
    "\n",
    "# On crée les probabilités cumulées en sommant sur la distribution P déjà calculée.\n",
    "for x in P:\n",
    "    Y.append(Y[-1]+x)\n",
    "\n",
    "\n",
    "plt.xticks(X)\n",
    "plt.grid(linestyle='dotted')\n",
    "\n",
    "# On affiche itérativement les segments.\n",
    "\n",
    "plt.plot((X[0],X[1]),(Y[0],Y[0]),color='r', label = 'Théorique')\n",
    "\n",
    "for i in range(1,n+2):\n",
    "    plt.plot((X[i],X[i]),(Y[i-1],Y[i]),color='r',linestyle='dotted')\n",
    "    plt.scatter([X[i]],[Y[i]],marker='o',color='r')\n",
    "    plt.plot((X[i],X[i+1]),(Y[i],Y[i]),color='r')\n",
    "\n",
    "plt.xlim(-1,n+1)\n",
    "plt.ylim(-0.1,1.1)\n",
    "\n",
    "plt.plot([-1,n+1],[0,0],color='c',linestyle='dotted')\n",
    "plt.plot([-1,n+1],[1,1],color='c',linestyle='dotted')\n",
    "\n",
    "plt.xlabel('x')\n",
    "plt.ylabel('P(X <= x)')\n",
    "plt.title('Fonctions de répartition de la loi de X~B('+str(n)+','+str(p)+')')\n",
    "\n",
    "\n",
    "### Fonction de répartition empirique\n",
    "\n",
    "def echantillon(n,p,taille):\n",
    "    Sample = np.random.binomial(n,p,taille)\n",
    "    Q = np.zeros(n+1)\n",
    "    for x in Sample:\n",
    "        Q[x]+=1\n",
    "    Q /= taille\n",
    "    return Q\n",
    "\n",
    "taille = 1000\n",
    "Q = echantillon(n,p,taille)\n",
    "FEmp = Q.cumsum()\n",
    "plt.plot((X[0],X[1]),(FEmp[0],FEmp[0]),color='b', alpha = 0.4, label = \"Empirique\")\n",
    "for i in range(1,n+1):\n",
    "    plt.plot((X[i+1],X[i+1]),(FEmp[i-1],FEmp[i]),color='b',linestyle='dotted',alpha = 0.4)\n",
    "    plt.scatter([X[i+1]],[FEmp[i]],marker='o',color='b',alpha = 0.4)\n",
    "    plt.plot((X[i+1],X[i+2]),(FEmp[i],FEmp[i]),color='b',alpha = 0.4)\n",
    "\n",
    "\n",
    "\n",
    "plt.legend()\n",
    "plt.show()\n",
    "\n",
    "\n",
    "\n",
    "# À vous de jouer !"
   ]
  },
  {
   "cell_type": "markdown",
   "id": "3f22fdfc",
   "metadata": {},
   "source": [
    "$\\mathcal{FIN}.$"
   ]
  }
 ],
 "metadata": {
  "kernelspec": {
   "display_name": "Python 3 (ipykernel)",
   "language": "python",
   "name": "python3"
  },
  "language_info": {
   "codemirror_mode": {
    "name": "ipython",
    "version": 3
   },
   "file_extension": ".py",
   "mimetype": "text/x-python",
   "name": "python",
   "nbconvert_exporter": "python",
   "pygments_lexer": "ipython3",
   "version": "3.9.12"
  }
 },
 "nbformat": 4,
 "nbformat_minor": 5
}
