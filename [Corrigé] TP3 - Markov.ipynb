{
 "cells": [
  {
   "cell_type": "markdown",
   "id": "0b67516b",
   "metadata": {},
   "source": [
    "# TP3 : Chaînes de Markov à espace d'états fini"
   ]
  },
  {
   "cell_type": "markdown",
   "id": "d10d5293",
   "metadata": {},
   "source": [
    "On commence par importer les bibliothèques usuelles :"
   ]
  },
  {
   "cell_type": "code",
   "execution_count": 1,
   "id": "0987c556",
   "metadata": {},
   "outputs": [],
   "source": [
    "import numpy as np\n",
    "import matplotlib.pyplot as plt"
   ]
  },
  {
   "cell_type": "markdown",
   "id": "da2b033a",
   "metadata": {},
   "source": [
    "## 1 - Introduction aux matrices dans Python"
   ]
  },
  {
   "cell_type": "markdown",
   "id": "83d859ce",
   "metadata": {},
   "source": [
    "Pour représenter les matrices (et vecteurs) dans Python, on utilise le type `np.array`, similaire aux listes. La syntaxe est cohérente avec ce que vous avez appris en algèbre linéaire, à ceci près que les indices commencent à $0$ pour les lignes et les colonnes."
   ]
  },
  {
   "cell_type": "code",
   "execution_count": 2,
   "id": "d601b60c",
   "metadata": {},
   "outputs": [
    {
     "name": "stdout",
     "output_type": "stream",
     "text": [
      "[[1 2 3]\n",
      " [4 5 6]\n",
      " [7 8 9]]\n",
      "2\n",
      "[3 6 9]\n"
     ]
    }
   ],
   "source": [
    "A = np.array([[1,2,3],[4,5,6],[7,8,9]])\n",
    "print(A) # La matrice A\n",
    "print(A[0,1]) # Le coefficient de la 1ere ligne, 2eme colonne.\n",
    "print(A[:,2]) # La 3eme colonne"
   ]
  },
  {
   "cell_type": "markdown",
   "id": "95169334",
   "metadata": {},
   "source": [
    "Dans la dernière ligne, on a utilisé ce qu'on appelle un slice: pour une liste `L` donnée, `L[i:j]` renvoie la liste des élèments `L[k]` pour `i`$\\leq$ `k` $<$`j`.On peut le voir comme un raccourci de\n",
    "`[L[k] for k in range(i,j)]`. \n",
    "\n",
    "En omettant `i` devant les deux points, on demande tous les éléments de la liste jusqu'à `j`. En omettant `j` après les deux points, on demande tous les éléments de la liste après `i`. Finalement, en omettant les deux, on demande tous les éléments de la liste.\n",
    "\n",
    "On peut l'utiliser dans les `np.array` pour sélectionner des parties de la matrice."
   ]
  },
  {
   "cell_type": "markdown",
   "id": "15254098",
   "metadata": {},
   "source": [
    "1) Écrire un code qui affiche la deuxième ligne de la matrice $A$"
   ]
  },
  {
   "cell_type": "code",
   "execution_count": 3,
   "id": "d64a6c29",
   "metadata": {},
   "outputs": [
    {
     "name": "stdout",
     "output_type": "stream",
     "text": [
      "[4 5 6]\n"
     ]
    }
   ],
   "source": [
    "# Solution\n",
    "print(A[1,:])"
   ]
  },
  {
   "cell_type": "markdown",
   "id": "7042561a",
   "metadata": {},
   "source": [
    "2) Afficher la multiplication de $\\pi$ et $A$, avec $\\pi=\\left(2,3,4\\right)$ vu comme un vecteur ligne. La multiplication se fait par la commande `np.dot`."
   ]
  },
  {
   "cell_type": "code",
   "execution_count": 4,
   "id": "ff1021fd",
   "metadata": {},
   "outputs": [
    {
     "data": {
      "text/plain": [
       "array([42, 51, 60])"
      ]
     },
     "execution_count": 4,
     "metadata": {},
     "output_type": "execute_result"
    }
   ],
   "source": [
    "# Solution\n",
    "pi = np.array([2,3,4])  # fonctionne aussi avec np.array([[2,3,4]])\n",
    "np.dot(pi,A)"
   ]
  },
  {
   "cell_type": "markdown",
   "id": "123fa5c9",
   "metadata": {},
   "source": [
    "On trouvera dans `np.linalg` une large palette de fonctions classiques d'algèbre linéaire: déterminant, norme, inverse, valeurs et vecteurs propres."
   ]
  },
  {
   "cell_type": "markdown",
   "id": "8fe4696a",
   "metadata": {},
   "source": [
    "## 2 - Chaînes de Markov"
   ]
  },
  {
   "cell_type": "markdown",
   "id": "94fd4ab1",
   "metadata": {},
   "source": [
    "### 1er exemple"
   ]
  },
  {
   "cell_type": "markdown",
   "id": "61021574",
   "metadata": {},
   "source": [
    "On reprend l'exercice du TD1 : "
   ]
  },
  {
   "cell_type": "markdown",
   "id": "e1b9eca4",
   "metadata": {},
   "source": [
    "Un fumeur, après avoir lu une série de statistiques sur les risques de cancer et de problèmes cardio-vasculaires liés au tabac, décide d’arrêter de fumer ; toujours d’après des statistiques, on estime les probabilités suivantes : si cette personne n’a pas fumé un jour $n$, alors la probabilité pour qu’elle ne fume pas le jour suivant $n+1$ est 0.3; mais si elle a fumé un jour $n$, alors la probabilité pour qu’elle ne fume pas le jour suivant $n+1$ est 0.9. Comment modéliser le comportement de cette personne ?"
   ]
  },
  {
   "cell_type": "markdown",
   "id": "c73b46e5",
   "metadata": {},
   "source": [
    "On introduit pour cela une suite de variables aléatoires $(X_n)_{n\\geq0}$ à valeurs dans $\\{0,1\\}$, avec $n$ qui représente le temps, c'est-à-dire le jour $n$, et $X_n=1$ si la personne a fumé le jour $n$ et $X_n=0$ sinon."
   ]
  },
  {
   "cell_type": "markdown",
   "id": "76cb33ad",
   "metadata": {},
   "source": [
    "On a donc les probabilités conditionnelles suivantes :\n",
    "$$\n",
    "\\mathbb P(X_{n+1}=0 | X_n=0)=0.3 \\quad \\text{et} \\quad \\mathbb P(X_{n+1}=1 | X_n=0)=0.7\n",
    "$$\n",
    "et\n",
    "$$\n",
    "\\mathbb P(X_{n+1}=0 | X_n=1)=0.9 \\quad \\text{et} \\quad \\mathbb P(X_{n+1}=1 | X_n=1)=0.1\n",
    "$$"
   ]
  },
  {
   "cell_type": "markdown",
   "id": "dd72934a",
   "metadata": {},
   "source": [
    "On résume ces probabilités dans la matrice de transition suivante :\n",
    "$$\n",
    "Q=\\begin{pmatrix} 0.3 & 0.7 \\\\ 0.9 & 0.1  \\end{pmatrix}\n",
    "$$"
   ]
  },
  {
   "cell_type": "markdown",
   "id": "72c81641",
   "metadata": {},
   "source": [
    "1) Définir la matrice $Q$ à l'aide de `np.array`"
   ]
  },
  {
   "cell_type": "code",
   "execution_count": 5,
   "id": "375d3d72",
   "metadata": {},
   "outputs": [],
   "source": [
    "# Solution\n",
    "Q = np.array([[.3, .7], [.9, .1]])"
   ]
  },
  {
   "cell_type": "markdown",
   "id": "3bd59859",
   "metadata": {},
   "source": [
    "La suite $(X_n)_{n\\geq0}$ est un exemple de chaîne de Markov à 2 états (0 ou 1), de matrice de transition $Q$, c'est-à-dire :\n",
    "$$\n",
    "\\mathbb P(X_{n+1}=y | X_n=x)=Q(x,y),\n",
    "$$\n",
    "pour tout $x,y \\in \\{0,1\\}$."
   ]
  },
  {
   "cell_type": "markdown",
   "id": "06582ca5",
   "metadata": {},
   "source": [
    "La première ligne de $Q$ donne donc la loi conditionnelle de $X_{n+1}$ sachant $X_n=0$, et la deuxième ligne de $Q$ la loi conditionnelle de $X_{n+1}$ sachant $X_n=1$."
   ]
  },
  {
   "cell_type": "markdown",
   "id": "d97d0c51",
   "metadata": {},
   "source": [
    "On a en fait mieux, la propriété de Markov énonce que le futur ne dépend pas du passé, mais uniquement du présent, c'est-à-dire :\n",
    "$$\n",
    "\\mathbb P(X_{n+1}=x_{n+1} | X_{n}=x_{n}, \\ldots, X_{0}=x_{0}) = \\mathbb P(X_{n+1}=x_{n+1} | X_{n}=x_{n}), \n",
    "$$\n",
    "pour tous $x_0,\\ldots,x_{n+1} \\in \\{0,1\\}$."
   ]
  },
  {
   "cell_type": "markdown",
   "id": "4ca2b48b",
   "metadata": {},
   "source": [
    "On va simuler le comportement de cette chaîne. Pour cela, on a besoin au temps $n+1$ de tirer au hasard un 0 ou un 1 selon qu'on est au temps $n$ dans l'état 0 ou l'état 1. On va pour cela utiliser la commande `random.choice` qui permet de tirer au hasard un entier selon une loi prescrite."
   ]
  },
  {
   "cell_type": "code",
   "execution_count": 6,
   "id": "eaf7e403",
   "metadata": {},
   "outputs": [
    {
     "data": {
      "text/plain": [
       "1"
      ]
     },
     "execution_count": 6,
     "metadata": {},
     "output_type": "execute_result"
    }
   ],
   "source": [
    "np.random.choice(a=2,p=[.3,.7]) # tire un échantillon de taille 1 dans a=np.arange(2)=[0,1] selon la loi p"
   ]
  },
  {
   "cell_type": "markdown",
   "id": "32e03890",
   "metadata": {},
   "source": [
    "La commande ci-dessus a donc retourné la valeur de $X_{n+1}$ sachant que $X_n=0$."
   ]
  },
  {
   "cell_type": "markdown",
   "id": "c79fea19",
   "metadata": {},
   "source": [
    "2) Écrire une commande `markov(x)` qui simule $X_{n+1}$ selon qu'on est en $x=$ 0 ou 1 au temps $n$."
   ]
  },
  {
   "cell_type": "code",
   "execution_count": 7,
   "id": "2ab687a5",
   "metadata": {},
   "outputs": [],
   "source": [
    "#Solution\n",
    "def markov(x):\n",
    "    prob = Q[x,:] # Les probas sont données par la \"xième\" ligne de Q\n",
    "    dim=len(prob)\n",
    "    return np.random.choice(a=dim,p=prob)"
   ]
  },
  {
   "cell_type": "markdown",
   "id": "d131dc45",
   "metadata": {},
   "source": [
    "3) Écrire une fonction `traj_markov(x,n)` qui simule une trajectoire de $n$ étapes de la chaine, en commençant dans l'état initial $X_0 = x$."
   ]
  },
  {
   "cell_type": "code",
   "execution_count": 8,
   "id": "d639c3ca",
   "metadata": {},
   "outputs": [],
   "source": [
    "# Solution\n",
    "def traj_markov(x,n): # on réalise n étapes de la chaîne, en commençant dans l'état initial x\n",
    "    X = x\n",
    "    traj = [x]\n",
    "    for i in range(1,n):\n",
    "        X = markov(X)\n",
    "        traj.append(X)\n",
    "    return traj"
   ]
  },
  {
   "cell_type": "markdown",
   "id": "00675dcb",
   "metadata": {},
   "source": [
    "On peut alors étudier le comportement en temps de la chaîne et répondre par exemple aux questions : combien de temps le fumer passe t-il à fumer ? Le fumeur va-t-il finir par s'arrêter de fumer ?"
   ]
  },
  {
   "cell_type": "markdown",
   "id": "edcc9e06",
   "metadata": {},
   "source": [
    "4) Commençons par regarder combien de temps la chaîne passe dans l'état 0.\n",
    "1. Définir z0 une trajectoire de la chaîne de Markov, pour $n=1000$ pas, commençant en 0.\n",
    "2. Définir et faire un graphe de y0 la suite des moyennes empiriques du nombre de visites en 0 de la chaîne (on pourra s'inspirer de l'exercice 3 du TP 2).\n",
    "3. Faire de même pour y1, les fréquences d'occupation de 0 pour une trajectoire commençant en 1.\n",
    "4. Que remarquez-vous ?"
   ]
  },
  {
   "cell_type": "code",
   "execution_count": 9,
   "id": "665b9283",
   "metadata": {},
   "outputs": [
    {
     "data": {
      "image/png": "[encoded data removed]",
      "text/plain": [
       "<Figure size 432x288 with 1 Axes>"
      ]
     },
     "metadata": {
      "needs_background": "light"
     },
     "output_type": "display_data"
    }
   ],
   "source": [
    "# Solution\n",
    "n=1000\n",
    "z0=np.array(traj_markov(0,n))\n",
    "(z0==0) # renvoie un vecteur True/False selon que les coordonnées de z sont 0 ou 1\n",
    "(z0==0).mean() # donne la moyenne empirique des 0\n",
    "(z0==0).cumsum() # renvoie les sommes cummulées de 0, c'est-à-dire le nombre de visites de 0\n",
    "y0=(z0==0).cumsum()/np.arange(1,n+1) # renvoie les fréquences d'occupation de 0\n",
    "plt.plot(y0, label = \"X_0 = 0\")\n",
    "\n",
    "z1=np.array(traj_markov(1,n))\n",
    "y1=(z1==0).cumsum()/np.arange(1,n+1) # renvoie les fréquences d'occupation de 0\n",
    "plt.plot(y1, label = \"X_0 = 1\")\n",
    "plt.legend()\n",
    "plt.show()"
   ]
  },
  {
   "cell_type": "markdown",
   "id": "77e66df7",
   "metadata": {},
   "source": [
    "En général, la quantité\n",
    "$$\n",
    "\\frac{1}{n} \\sum_{k=0}^{n-1} \\mathbb 1_{\\{X_n=k\\}}\n",
    "$$\n",
    "s'interprète comme le taux d'occupation de l'état $k$ jusqu'au temps $n$.\n",
    "\n",
    "On veut maintenant savoir avec quelle probabilité le fumeur va s'arrêter de fumer.  On cherche donc à déterminer la loi de $X_n$ quand $n$ est grand. "
   ]
  },
  {
   "cell_type": "markdown",
   "id": "890f7855",
   "metadata": {},
   "source": [
    "On peut pour cela, déterminons la mesure empirique d'un échantillon de $X_n$.\n",
    " "
   ]
  },
  {
   "cell_type": "markdown",
   "id": "197f42f9",
   "metadata": {},
   "source": [
    "5) Écrire une fonction `echantillon_markov(n,m)` qui renvoie un échantillon de taille $m$ de la variable $X_n$ (d'état initial $X_0=0$)."
   ]
  },
  {
   "cell_type": "code",
   "execution_count": 10,
   "id": "8e1c99bc",
   "metadata": {},
   "outputs": [],
   "source": [
    "#Solution\n",
    "def echantillon_markov(n,m):\n",
    "    L=np.zeros(m)\n",
    "    for k in range(m):\n",
    "        L[k]=traj_markov(0,n)[-1]\n",
    "    return L"
   ]
  },
  {
   "cell_type": "markdown",
   "id": "2f3a4cd3",
   "metadata": {},
   "source": [
    "6) Afficher un diagramme en barre de la mesure empirique de la loi de $X_n$ (on pourra s'inspirer de l'exercice 6 du TP1)"
   ]
  },
  {
   "cell_type": "code",
   "execution_count": 11,
   "id": "0ecfe256",
   "metadata": {},
   "outputs": [
    {
     "data": {
      "image/png": "[encoded data removed]",
      "text/plain": [
       "<Figure size 432x288 with 1 Axes>"
      ]
     },
     "metadata": {
      "needs_background": "light"
     },
     "output_type": "display_data"
    }
   ],
   "source": [
    "#Solution\n",
    "m=1000\n",
    "n=100\n",
    "x=echantillon_markov(n,m)\n",
    "\n",
    "visites0=(x==0).sum()/m\n",
    "visites1=(x==1).sum()/m\n",
    "\n",
    "width = 0.1\n",
    "plt.bar([0,1],[visites0,visites1],width)\n",
    "plt.show()"
   ]
  },
  {
   "cell_type": "markdown",
   "id": "23ded751",
   "metadata": {},
   "source": [
    "Tester pour différentes valeurs de $n$ et $m$. Interpréter la figure ci-dessus et comparer avec le résultat numérique obtenu au TD1."
   ]
  },
  {
   "cell_type": "markdown",
   "id": "a15166cf",
   "metadata": {},
   "source": [
    "On appelle probabilité invariante une probabilité $\\pi$ vu comme un vecteur ligne dont les coefficients somment à 1, vérifiant :\n",
    "$$\n",
    "\\pi = \\pi P\n",
    "$$"
   ]
  },
  {
   "cell_type": "markdown",
   "id": "964e21f3",
   "metadata": {},
   "source": [
    "La loi de $X_n$ selon l'état initial est donné par la puissance $n$-ième $P^n$ de la matrice $P$, c'est-à-dire que\n",
    "$$\n",
    "\\mathbb P(X_n = y | X_0=x) = P^n(x,y).\n",
    "$$\n",
    "On a donc que si $X_0$ est distribué selon $\\pi$, alors $X_n$ est de loi $\\pi$. "
   ]
  },
  {
   "cell_type": "markdown",
   "id": "1b57294e",
   "metadata": {},
   "source": [
    "7) Vérifiez que la probabilité $\\pi=(\\frac{9}{16} \\frac{7}{16})$ est une probailité invariante pour la matrice $Q=\\begin{pmatrix} 0.3 & 0.7 \\\\ 0.9 & 0.1 \\end{pmatrix}$ de l'introduction. Le produit de matrices se fait à l'aide la commande `np.dot`."
   ]
  },
  {
   "cell_type": "code",
   "execution_count": 12,
   "id": "4f18de06",
   "metadata": {},
   "outputs": [
    {
     "data": {
      "text/plain": [
       "matrix([[ True,  True]])"
      ]
     },
     "execution_count": 12,
     "metadata": {},
     "output_type": "execute_result"
    }
   ],
   "source": [
    "# Solution\n",
    "Q = np.matrix([[.3,.7],[.9,.1]])\n",
    "inv=np.matrix([9/16,7/16])\n",
    "np.dot(inv,Q)==inv"
   ]
  },
  {
   "cell_type": "markdown",
   "id": "581be859",
   "metadata": {},
   "source": [
    "Il faut faire attention quand on compare des valeurs numériques, par exemple :"
   ]
  },
  {
   "cell_type": "code",
   "execution_count": 13,
   "id": "aef53989",
   "metadata": {},
   "outputs": [
    {
     "data": {
      "text/plain": [
       "False"
      ]
     },
     "execution_count": 13,
     "metadata": {},
     "output_type": "execute_result"
    }
   ],
   "source": [
    "np.sqrt(2)*np.sqrt(2) == 2.0"
   ]
  },
  {
   "cell_type": "markdown",
   "id": "36055eb5",
   "metadata": {},
   "source": [
    "On peut utiliser la commande `isclose` pour comparer des valeurs numériques à la précision de la machine utilisée."
   ]
  },
  {
   "cell_type": "code",
   "execution_count": 14,
   "id": "d2afaec6",
   "metadata": {},
   "outputs": [
    {
     "data": {
      "text/plain": [
       "True"
      ]
     },
     "execution_count": 14,
     "metadata": {},
     "output_type": "execute_result"
    }
   ],
   "source": [
    "np.isclose(np.sqrt(2)*np.sqrt(2), 2)"
   ]
  },
  {
   "cell_type": "markdown",
   "id": "fc9a24f9",
   "metadata": {},
   "source": [
    "### 2ème exemple"
   ]
  },
  {
   "cell_type": "markdown",
   "id": "8ddda9ba",
   "metadata": {},
   "source": [
    "On considère une chaîne à 3 états, de probabilités de transition données par la matrice $P$ :\n",
    "$$\n",
    "P=\\begin{pmatrix} 0 & \\frac12 & \\frac12 \\\\ \\frac14 & \\frac12 & \\frac14 \\\\ \\frac14 & \\frac14 & \\frac12  \\end{pmatrix}\n",
    "$$"
   ]
  },
  {
   "cell_type": "markdown",
   "id": "aaa1ef69",
   "metadata": {},
   "source": [
    "0) Definir la matrice $P$ à l'aide la commande `np.array`."
   ]
  },
  {
   "cell_type": "code",
   "execution_count": 15,
   "id": "572ec37b",
   "metadata": {},
   "outputs": [],
   "source": [
    "# Solution\n",
    "P=np.array([[0,.5,.5],[.25,.5,.25],[.25,.25,.5]])"
   ]
  },
  {
   "cell_type": "markdown",
   "id": "22facbaf",
   "metadata": {},
   "source": [
    "1) Ecrire une commande qui prend en entrée $x,R,n$ et qui renvoie la trajectoire jusqu'au temps $n$ de la chaîne de Markov de matrice de transtion $R$ et d'état initial $x$."
   ]
  },
  {
   "cell_type": "code",
   "execution_count": 16,
   "id": "38b21768",
   "metadata": {},
   "outputs": [],
   "source": [
    "# Solution\n",
    "def markov(x,R): # un pas de transition R\n",
    "    prob = R[x,:] # Les probas sont données par la \"xième\" ligne de R\n",
    "    dim=len(prob)\n",
    "    return np.random.choice(a=dim,p=prob)\n",
    "\n",
    "\n",
    "def traj_markov(x,R,n): # on réalise n étapes de la chaîne, en commençant dans l'état initial x\n",
    "    X = x\n",
    "    traj = [x]\n",
    "    for i in range(1,n):\n",
    "        X = markov(X,R)\n",
    "        traj.append(X)\n",
    "    return np.array(traj)"
   ]
  },
  {
   "cell_type": "markdown",
   "id": "ce97afd7",
   "metadata": {},
   "source": [
    "2) Illustrer graphiquement le comportement en temps long de la chaîne."
   ]
  },
  {
   "cell_type": "code",
   "execution_count": 17,
   "id": "09071263",
   "metadata": {},
   "outputs": [
    {
     "data": {
      "image/png": "[encoded data removed]",
      "text/plain": [
       "<Figure size 432x288 with 1 Axes>"
      ]
     },
     "metadata": {
      "needs_background": "light"
     },
     "output_type": "display_data"
    }
   ],
   "source": [
    "# Solution\n",
    "n=1000\n",
    "z=traj_markov(1,P,n)\n",
    "y=(z==0).cumsum()/np.arange(1,len(z)+1) #donne le vecteur des moyennes de 0\n",
    "plt.plot(y)\n",
    "plt.show()"
   ]
  },
  {
   "cell_type": "markdown",
   "id": "b99afe47",
   "metadata": {},
   "source": [
    "3) Donner une estimation des limites des taux d'occupation des états $0$, $1$ et $2$ en comparant selon l'état initial $x$ choisi."
   ]
  },
  {
   "cell_type": "code",
   "execution_count": 18,
   "id": "5fe4f537",
   "metadata": {},
   "outputs": [
    {
     "data": {
      "text/plain": [
       "(0.208, 0.415, 0.377)"
      ]
     },
     "execution_count": 18,
     "metadata": {},
     "output_type": "execute_result"
    }
   ],
   "source": [
    "# Solution\n",
    "# x=1\n",
    "z=traj_markov(1,P,1000)\n",
    "(z==0).mean() , (z==1).mean() , (z==2).mean()"
   ]
  },
  {
   "cell_type": "code",
   "execution_count": 19,
   "id": "d57b285f",
   "metadata": {},
   "outputs": [
    {
     "data": {
      "text/plain": [
       "(0.2038, 0.4162, 0.38)"
      ]
     },
     "execution_count": 19,
     "metadata": {},
     "output_type": "execute_result"
    }
   ],
   "source": [
    "# x=0\n",
    "z0=traj_markov(0,P,10000)\n",
    "(z0==0).mean() , (z0==1).mean() , (z0==2).mean()"
   ]
  },
  {
   "cell_type": "markdown",
   "id": "71394fdb",
   "metadata": {},
   "source": [
    "4) Cherchons alors la probabilité invariante de la matrice $P$. La relation $\\pi=\\pi P$ nous dit que $\\pi$ est un vecteur propre à gauche de $P$, et donc en prenant la transposée que $\\pi^t$ est un vecteur propre à droite de $P^t$ (associé à quelle valeur propre ?). On utilisera la commande `np.linalg.eig` qui à une matice $A$ renvoie ses valeurs propres et vecteurs propres et la commande `np.transpose` qui retourne la transposée."
   ]
  },
  {
   "cell_type": "code",
   "execution_count": 20,
   "id": "42af5880",
   "metadata": {},
   "outputs": [
    {
     "data": {
      "text/plain": [
       "(array([-0.25,  1.  ,  0.25]),\n",
       " array([[-8.16496581e-01,  3.33333333e-01, -6.81506437e-17],\n",
       "        [ 4.08248290e-01,  6.66666667e-01, -7.07106781e-01],\n",
       "        [ 4.08248290e-01,  6.66666667e-01,  7.07106781e-01]]))"
      ]
     },
     "execution_count": 20,
     "metadata": {},
     "output_type": "execute_result"
    }
   ],
   "source": [
    "# Solution\n",
    "np.linalg.eig(np.transpose(P))"
   ]
  },
  {
   "cell_type": "markdown",
   "id": "bf5fb561",
   "metadata": {},
   "source": [
    "5) Vérifier votre résultat en caluclant $\\pi P$. \n",
    "Pensez à normaliser le vecteur $\\pi$ pour qu'il soit bien une probabilité !"
   ]
  },
  {
   "cell_type": "code",
   "execution_count": 21,
   "id": "62d30dc4",
   "metadata": {},
   "outputs": [
    {
     "data": {
      "text/plain": [
       "array([0.2, 0.4, 0.4])"
      ]
     },
     "execution_count": 21,
     "metadata": {},
     "output_type": "execute_result"
    }
   ],
   "source": [
    "# Vérifions\n",
    "A=np.transpose(np.linalg.eig(np.transpose(P))[1])[1]\n",
    "A=A/np.sum(A)\n",
    "A"
   ]
  },
  {
   "cell_type": "code",
   "execution_count": 22,
   "id": "ec762db2",
   "metadata": {},
   "outputs": [
    {
     "data": {
      "text/plain": [
       "matrix([[ True,  True,  True]])"
      ]
     },
     "execution_count": 22,
     "metadata": {},
     "output_type": "execute_result"
    }
   ],
   "source": [
    "# Vérifions\n",
    "np.dot(np.matrix([1/5,2/5,2/5]),P)\n",
    "\n",
    "np.dot(np.matrix([1/5,2/5,2/5]),P)==A\n",
    "np.isclose(np.dot(np.matrix([1/5,2/5,2/5]),P), A)"
   ]
  },
  {
   "cell_type": "markdown",
   "id": "ecb93b23",
   "metadata": {},
   "source": [
    "6) Comparer le résultat obtenu avec les limites des taux d'occupation des états $0,1,2$ de la question 3)."
   ]
  },
  {
   "cell_type": "code",
   "execution_count": 23,
   "id": "daec1f64",
   "metadata": {},
   "outputs": [],
   "source": [
    "# Solution :\n",
    "\n"
   ]
  },
  {
   "cell_type": "markdown",
   "id": "e1b82070",
   "metadata": {},
   "source": [
    "On vient d'illustrer le théorème ergodique suivant : Si $(X_n)_{n\\geq0}$ est une chaîne de Markov irréductible (c'est-à-dire que tous les états communiquent), alors elle admet une unique probabilité invariante $\\pi$, et de plus, pour tout état initial $x\\in E$, on a\n",
    "$$\n",
    "\\lim_{n\\to\\infty} \\frac{1}{n} \\sum_{k=0}^{n-1} P^k(x,y) = \\pi(y).\n",
    "$$"
   ]
  },
  {
   "cell_type": "markdown",
   "id": "f19193c6",
   "metadata": {},
   "source": [
    "On peut même supposer que $X_0$ suit une loi quelconque $\\mu$, et dans ce cas, on a\n",
    "$$\n",
    "\\lim_{n\\to\\infty} \\frac{1}{n} \\sum_{k=0}^{n-1} \\mu P^k(y) = \\pi(y),\n",
    "$$\n",
    "pour tout $y\\in E$."
   ]
  },
  {
   "cell_type": "markdown",
   "id": "a0748a81",
   "metadata": {},
   "source": [
    "Le théorème est faux si la chaîne n'est pas irréductible comme on pourra s'en convaincre en étudiant la chaîne à deux états de matrice de transition l'identité."
   ]
  },
  {
   "cell_type": "markdown",
   "id": "352dd5a4",
   "metadata": {},
   "source": [
    "7) Générer une trajectoire de la chaîne de Markov de loi initiale une loi quelconque $\\mu$ sur $\\{0,1,2\\}$, et comparer les taux d'occupation dans le cas $\\mu=(\\frac17 \\frac27 \\frac47)$."
   ]
  },
  {
   "cell_type": "code",
   "execution_count": 24,
   "id": "9aae3268",
   "metadata": {},
   "outputs": [
    {
     "data": {
      "image/png": "[encoded data removed]",
      "text/plain": [
       "<Figure size 432x288 with 1 Axes>"
      ]
     },
     "metadata": {
      "needs_background": "light"
     },
     "output_type": "display_data"
    }
   ],
   "source": [
    "# Solution\n",
    "x_initial=np.random.choice(a=3,p=[1/7,2/7,4/7])\n",
    "n=1000\n",
    "z=traj_markov(x_initial,P,n)\n",
    "y=(z==0).cumsum()/np.arange(1,len(z)+1) #donne le vecteur des moyennes de 0\n",
    "plt.plot(y)\n",
    "plt.show()"
   ]
  },
  {
   "cell_type": "code",
   "execution_count": 25,
   "id": "70dcf854",
   "metadata": {},
   "outputs": [
    {
     "data": {
      "text/plain": [
       "(0.205, 0.415, 0.38)"
      ]
     },
     "execution_count": 25,
     "metadata": {},
     "output_type": "execute_result"
    }
   ],
   "source": [
    "#\n",
    "x_initial=np.random.choice(a=3,p=[1/7,2/7,4/7])\n",
    "z2=traj_markov(x_initial,P,1000)\n",
    "(z2==0).mean() , (z2==1).mean() , (z2==2).mean()"
   ]
  },
  {
   "cell_type": "markdown",
   "id": "1cc4ffea",
   "metadata": {},
   "source": [
    "8) Coder les indicateurs $N_{0,0}^{1000} = \\sum_{i=0}^{999}\\mathbf{1}_{x_i=0,x_{i+1}=0}$, $N_{0,1}^{1000}$, et $N_{0,2}^{1000}$ de l'exercice 6.5 du TD sur une trajectoire de 1000 pas commençant en 0. Quelles estimations sur $P$ pourrait-on faire si on avait uniquement ces indicateurs ?"
   ]
  },
  {
   "cell_type": "code",
   "execution_count": 26,
   "id": "db630854",
   "metadata": {},
   "outputs": [
    {
     "name": "stdout",
     "output_type": "stream",
     "text": [
      "0 103 101\n",
      "Estimation de la première ligne de P:\n",
      "[0.0, 0.5049019607843137, 0.4950980392156863]\n"
     ]
    }
   ],
   "source": [
    "z = traj_markov(0,P,1000)\n",
    "N00 = 0 \n",
    "N01 = 0\n",
    "N02 = 0\n",
    "for i in range(999):\n",
    "    if z[i] == 0:\n",
    "        if z[i+1] == 0:\n",
    "            N00 += 1\n",
    "        elif z[i+1] == 1:\n",
    "            N01 += 1\n",
    "        elif z[i+1] == 2:\n",
    "            N02 += 1\n",
    "\n",
    "print(N00, N01, N02)\n",
    "S = N00 + N01 + N02\n",
    "print(\"Estimation de la première ligne de P:\")\n",
    "print([N00/S, N01/S, N02/S])"
   ]
  },
  {
   "cell_type": "markdown",
   "id": "a697c87c",
   "metadata": {},
   "source": [
    "## 3 - La marche aléatoire sur $\\mathbb Z$"
   ]
  },
  {
   "cell_type": "markdown",
   "id": "5a64732d",
   "metadata": {},
   "source": [
    "On va regarder un exemple de chaîne de Markov sur un espace dénombrable : la marche aléatoire sur $\\mathbb Z$. A chaque instant de temps, le marcheur fait un pas en avant avec probabilité $1/2$ ou un pas en arrière avec probabilité $1/2$. On suppose que le marcheur est initialement en 0. On modélise la position du marcheur au temps $n$ par la suite de v.a. $(X_n)_{n\\geq0}$ définie par $X_0=0$, et\n",
    "$$\n",
    "X_n=Y_1+\\cdots+Y_n,\n",
    "$$\n",
    "où $(Y_i)_{i\\geq1}$ est une suite de v.a. indépendantes et identiquement distribuées, de loi $\\frac12\\delta_{+1}+\\frac12\\delta_{-1}$."
   ]
  },
  {
   "cell_type": "markdown",
   "id": "19e8e1f4",
   "metadata": {},
   "source": [
    "1) Ecrire une fonction qui retourne la position (aléatoire) du marcheur au temps $n$."
   ]
  },
  {
   "cell_type": "code",
   "execution_count": 27,
   "id": "1b3970fd",
   "metadata": {},
   "outputs": [],
   "source": [
    "# Solution\n",
    "def walk(n):\n",
    "    if n==0:\n",
    "        return 0\n",
    "    else:\n",
    "        sample=2*np.random.randint(0,2,n)-1\n",
    "        return np.cumsum(sample)"
   ]
  },
  {
   "cell_type": "markdown",
   "id": "99d56e16",
   "metadata": {},
   "source": [
    "2) Tracer une trajectoire du marcheur jusqu'au temps 1000."
   ]
  },
  {
   "cell_type": "code",
   "execution_count": 28,
   "id": "68657cd8",
   "metadata": {},
   "outputs": [
    {
     "data": {
      "image/png": "[encoded data removed]",
      "text/plain": [
       "<Figure size 432x288 with 1 Axes>"
      ]
     },
     "metadata": {
      "needs_background": "light"
     },
     "output_type": "display_data"
    }
   ],
   "source": [
    "# Solution\n",
    "plt.plot(walk(1000))\n",
    "plt.show()"
   ]
  },
  {
   "cell_type": "markdown",
   "id": "c1618a00",
   "metadata": {},
   "source": [
    "3) Tracer plusieurs trajectoires du marcheur sur le même graphique. Peut-on conjecturer une limite de $X_n$ quand $n\\to \\infty$ ?"
   ]
  },
  {
   "cell_type": "code",
   "execution_count": 29,
   "id": "2b5b33d0",
   "metadata": {},
   "outputs": [
    {
     "data": {
      "image/png": "[encoded data removed]",
      "text/plain": [
       "<Figure size 432x288 with 1 Axes>"
      ]
     },
     "metadata": {
      "needs_background": "light"
     },
     "output_type": "display_data"
    }
   ],
   "source": [
    "# Solution\n",
    "for k in ['b','g','r','c','m','y','k']:\n",
    "    plt.plot(walk(1000),color=k)\n",
    "plt.show()"
   ]
  },
  {
   "cell_type": "code",
   "execution_count": 30,
   "id": "eeba5ff3",
   "metadata": {},
   "outputs": [],
   "source": [
    "# non..."
   ]
  },
  {
   "cell_type": "markdown",
   "id": "cb448640",
   "metadata": {},
   "source": [
    "$\\mathcal{FIN}$."
   ]
  }
 ],
 "metadata": {
  "kernelspec": {
   "display_name": "Python 3 (ipykernel)",
   "language": "python",
   "name": "python3"
  },
  "language_info": {
   "codemirror_mode": {
    "name": "ipython",
    "version": 3
   },
   "file_extension": ".py",
   "mimetype": "text/x-python",
   "name": "python",
   "nbconvert_exporter": "python",
   "pygments_lexer": "ipython3",
   "version": "3.10.12"
  }
 },
 "nbformat": 4,
 "nbformat_minor": 5
}
