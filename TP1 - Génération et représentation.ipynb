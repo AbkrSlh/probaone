{
 "cells": [
  {
   "cell_type": "markdown",
   "id": "90d03007",
   "metadata": {},
   "source": [
    "# TP1 : Génération de variables discrètes, Représentation graphique d'un échantillon"
   ]
  },
  {
   "cell_type": "markdown",
   "id": "df4218ca",
   "metadata": {},
   "source": [
    "## 1. Introduction aux Notebooks Jupyter"
   ]
  },
  {
   "cell_type": "markdown",
   "id": "d068effb",
   "metadata": {},
   "source": [
    "Jupyter Notebook est un ensemble de modules Python permettant notamment\n",
    "de mêler des blocs de texte rédigés en Markdown, comme celui-ci,\n",
    "et des blocs de code Python comme celui ci-après.\n",
    "\n",
    "\n",
    "Les TP présupposent une connaissance au moins élémentaire du langage Python, [de nombreux sites internet existent](https://www.pythoncheatsheet.org/cheatsheet/basics) pour vous rafraichir les idées à ce sujet.\n",
    "\n",
    "Le bouton \"Run\" dans la barre d'outils exécute le bloc de code sélectionné puis passe au bloc suivant. \n",
    "Pour exécuter plusieurs fois un même bloc, le raccourci \\[Ctrl\\] + \\[Entrée\\], qui exécute un bloc sans passer au suivant peut donc s'avérer utile. "
   ]
  },
  {
   "cell_type": "code",
   "execution_count": 5,
   "id": "0b9398d0",
   "metadata": {},
   "outputs": [],
   "source": [
    "### BLOC 1 ###\n",
    "\n",
    "message='Bonjour.\\n'\n",
    "\n",
    "def hello_world():\n",
    "    return \"Hello World !\""
   ]
  },
  {
   "cell_type": "code",
   "execution_count": 6,
   "id": "d1f28675",
   "metadata": {
    "scrolled": true
   },
   "outputs": [
    {
     "name": "stdout",
     "output_type": "stream",
     "text": [
      "Bonjour.\n",
      "\n",
      "Hello World !\n"
     ]
    }
   ],
   "source": [
    "### BLOC 2 ###\n",
    "\n",
    "print(message)\n",
    "print(hello_world())"
   ]
  },
  {
   "cell_type": "markdown",
   "id": "81b2ef59",
   "metadata": {},
   "source": [
    "Il est même possible d'exécuter les blocs de code dans le désordre. Essayons donc d'exécuter le bloc 3 puis le bloc 2 pour voir."
   ]
  },
  {
   "cell_type": "code",
   "execution_count": 7,
   "id": "ca6daf6e",
   "metadata": {},
   "outputs": [],
   "source": [
    "### BLOC 3 ###\n",
    "\n",
    "message='Rebonjour !\\n'\n",
    "\n",
    "def hello_world():\n",
    "    return \"Le TP progresse.\""
   ]
  },
  {
   "cell_type": "markdown",
   "id": "5de81a84",
   "metadata": {},
   "source": [
    "Il est également possible de déplacer des blocs existants ou d'en insérer de nouveaux. Les notebooks sont un outil assez souple, notamment adapté pour partager et illustrer des phénomènes mathématiques, aléatoires ou non, ce que nous allons faire au cours des prochaines séances.\n",
    "\n",
    "Le but de cette première séance de TP est de se familiariser avec cet outil, et notamment avec l'utilisation des bibliothèques graphiques de Python."
   ]
  },
  {
   "cell_type": "markdown",
   "id": "24518248",
   "metadata": {},
   "source": [
    "## 2. Affichage d'une courbe de fonction"
   ]
  },
  {
   "cell_type": "markdown",
   "id": "037a62cc",
   "metadata": {},
   "source": [
    "Pour l'affichage d'une courbe du type $Y=f(X)$, on utilise les modules `numpy`, spécialisée dans la manipulation de listes / vecteurs / matrices, et `matplotlib.pyplot`, pour l'affichage lui-même. Plus de détails sur l'utilisation du module Pyplot sont disponibles dans [la documentation](https://matplotlib.org/stable/tutorials/introductory/pyplot.html)."
   ]
  },
  {
   "cell_type": "code",
   "execution_count": 1,
   "id": "38d79f59",
   "metadata": {},
   "outputs": [],
   "source": [
    "import numpy as np\n",
    "import matplotlib.pyplot as plt\n",
    "\n",
    "X2 = np.arange(0,10,0.1)"
   ]
  },
  {
   "cell_type": "code",
   "execution_count": 2,
   "id": "da92a130",
   "metadata": {},
   "outputs": [],
   "source": [
    "# Pour l'exemple, utilisons la fonction identité :\n",
    "\n",
    "def f2(x): return x"
   ]
  },
  {
   "cell_type": "code",
   "execution_count": 7,
   "id": "b1782e8d",
   "metadata": {
    "scrolled": false
   },
   "outputs": [
    {
     "data": {
      "image/png": "[encoded data removed]",
      "text/plain": [
       "<Figure size 640x480 with 1 Axes>"
      ]
     },
     "metadata": {},
     "output_type": "display_data"
    }
   ],
   "source": [
    "### AFFICHAGE DE LA FONCTION ###\n",
    "\n",
    "Y2 = f2(X2)\n",
    "\n",
    "plt.title(\"titre\")\n",
    "plt.xlabel(\"axe horizontal\")\n",
    "plt.ylabel(\"axe vertical\")\n",
    "plt.plot(X2,Y2)\n",
    "plt.show()"
   ]
  },
  {
   "cell_type": "markdown",
   "id": "3ae065df",
   "metadata": {},
   "source": [
    "A titre d'exercice, afficher la courbe de la fonction exponentielle."
   ]
  },
  {
   "cell_type": "code",
   "execution_count": 13,
   "id": "12a06c0e",
   "metadata": {},
   "outputs": [],
   "source": [
    "# Solution"
   ]
  },
  {
   "cell_type": "markdown",
   "id": "821b80b5",
   "metadata": {},
   "source": [
    "## 3. Boucles et conditions"
   ]
  },
  {
   "cell_type": "markdown",
   "id": "55f35d7c",
   "metadata": {},
   "source": [
    "On utilisera princpalement deux types de boucle : les boucles `for` et `while`. Elles s’utilisent pour répéter plusieurs fois l’exécution d’une partie du programme.\n",
    "\n",
    "Quand on sait combien de fois doit avoir lieu la répétition, on utilise généralement une boucle `for`."
   ]
  },
  {
   "cell_type": "markdown",
   "id": "44f5e82d",
   "metadata": {},
   "source": [
    "Affichons les entiers de 0 à 9."
   ]
  },
  {
   "cell_type": "code",
   "execution_count": 14,
   "id": "6c2cbc24",
   "metadata": {},
   "outputs": [
    {
     "name": "stdout",
     "output_type": "stream",
     "text": [
      "0\n",
      "1\n",
      "2\n",
      "3\n",
      "4\n",
      "5\n",
      "6\n",
      "7\n",
      "8\n",
      "9\n"
     ]
    }
   ],
   "source": [
    "for i in range(10):\n",
    "    print(i)"
   ]
  },
  {
   "cell_type": "markdown",
   "id": "bdde9e58",
   "metadata": {},
   "source": [
    "On peut utiliser une boucle à l'intérieur d'une liste."
   ]
  },
  {
   "cell_type": "code",
   "execution_count": 15,
   "id": "7081a3e8",
   "metadata": {},
   "outputs": [
    {
     "data": {
      "text/plain": [
       "[0, 1, 2, 3, 4, 5, 6, 7, 8, 9]"
      ]
     },
     "execution_count": 15,
     "metadata": {},
     "output_type": "execute_result"
    }
   ],
   "source": [
    "[i for i in range(10)]"
   ]
  },
  {
   "cell_type": "markdown",
   "id": "881bb7c0",
   "metadata": {},
   "source": [
    "**Exercice :** Créer une liste contenant les carrés des entiers de 2 à 7."
   ]
  },
  {
   "cell_type": "code",
   "execution_count": 16,
   "id": "5da5e6fd",
   "metadata": {},
   "outputs": [],
   "source": [
    "# Solution :\n"
   ]
  },
  {
   "cell_type": "markdown",
   "id": "c12e62dc",
   "metadata": {},
   "source": [
    "Si on ne connait pas à l’avance le nombre de répétitions, on utilise une boucle `while`."
   ]
  },
  {
   "cell_type": "code",
   "execution_count": 17,
   "id": "61c1cc26",
   "metadata": {},
   "outputs": [
    {
     "name": "stdout",
     "output_type": "stream",
     "text": [
      "x a pour valeur 1\n",
      "x a pour valeur 2\n",
      "x a pour valeur 4\n",
      "x a pour valeur 8\n",
      "Fin\n"
     ]
    }
   ],
   "source": [
    "x = 1\n",
    "while x < 10:\n",
    "    print(\"x a pour valeur\", x)\n",
    "    x = x * 2\n",
    "print(\"Fin\")"
   ]
  },
  {
   "cell_type": "markdown",
   "id": "0242d35e",
   "metadata": {},
   "source": [
    "Si la condition initiale est fausse, la boucle n'est pas executée (tester la boucle en partant d'une valeur supérieur à 10). "
   ]
  },
  {
   "cell_type": "markdown",
   "id": "331c6fd6",
   "metadata": {},
   "source": [
    "On peut toujours remplacer une boucle for par une boucle while en utilisant un compteur de pas."
   ]
  },
  {
   "cell_type": "code",
   "execution_count": 18,
   "id": "47d42aad",
   "metadata": {},
   "outputs": [
    {
     "name": "stdout",
     "output_type": "stream",
     "text": [
      "0\n",
      "1\n",
      "2\n",
      "3\n",
      "4\n",
      "5\n",
      "6\n",
      "7\n",
      "8\n",
      "9\n"
     ]
    }
   ],
   "source": [
    "i=0\n",
    "while i<10:\n",
    "    print(i)\n",
    "    i=i+1"
   ]
  },
  {
   "cell_type": "markdown",
   "id": "348ec779",
   "metadata": {},
   "source": [
    "**Exercice :** Soit $(u_n)_{n\\geq0}$ la suite définie par $u_0=1$ et $u_{n+1}=2 u_n+1$ pour $n\\geq0$. Créer une boucle qui renvoie le plus petit $n$ tel que $u_n>2300$."
   ]
  },
  {
   "cell_type": "code",
   "execution_count": 19,
   "id": "3b21a46b",
   "metadata": {},
   "outputs": [],
   "source": [
    "# Solution\n"
   ]
  },
  {
   "cell_type": "markdown",
   "id": "68b37ba4",
   "metadata": {},
   "source": [
    "On utilise les commandes `if` et `else` pour permettre d’exécuter différents blocs de code selon qu’une condition spécifique est vérifiée ou pas."
   ]
  },
  {
   "cell_type": "code",
   "execution_count": 20,
   "id": "f594bff5",
   "metadata": {},
   "outputs": [
    {
     "name": "stdout",
     "output_type": "stream",
     "text": [
      "11 est supérieur à 10\n"
     ]
    }
   ],
   "source": [
    "a=11\n",
    "if a<10:\n",
    "    print(a, 'est strictement inférieur à 10')\n",
    "else:\n",
    "    print(a, 'est supérieur à 10')"
   ]
  },
  {
   "cell_type": "markdown",
   "id": "0eafb151",
   "metadata": {},
   "source": [
    "**Exercice :** \n",
    "\n",
    "Ecrire une commande qui à un entier $u$ renvoie $u/2$ si $u$ est pair, et $3u+1$ si $u$ est impair (suite de Syracuse). Indication : l'opérateur modulo 2 s'écrit en Python `u%2`."
   ]
  },
  {
   "cell_type": "code",
   "execution_count": 21,
   "id": "96a222e5",
   "metadata": {},
   "outputs": [],
   "source": [
    "# solution\n"
   ]
  },
  {
   "cell_type": "markdown",
   "id": "00a230c3",
   "metadata": {},
   "source": [
    "## 4. Génération d'entiers aléatoires avec le module `random`"
   ]
  },
  {
   "cell_type": "markdown",
   "id": "db4446a9",
   "metadata": {},
   "source": [
    "Python dispose d'un module interne dédié à la génération de données aléatoires, `random`. Faisons un petit récapitulatif des fonctions les plus utiles du module (plus d'informations dans [la documentation](https://docs.python.org/3/library/random.html))."
   ]
  },
  {
   "cell_type": "code",
   "execution_count": 22,
   "id": "9d85c76a",
   "metadata": {},
   "outputs": [],
   "source": [
    "import random as rand"
   ]
  },
  {
   "cell_type": "markdown",
   "id": "432dded1",
   "metadata": {},
   "source": [
    "Commençons par la fonction `randint(a,b)` qui retourne uniformément au hasard un entier $n\\in \\left[a,b\\right]$."
   ]
  },
  {
   "cell_type": "code",
   "execution_count": 23,
   "id": "791285f1",
   "metadata": {},
   "outputs": [
    {
     "data": {
      "text/plain": [
       "7"
      ]
     },
     "execution_count": 23,
     "metadata": {},
     "output_type": "execute_result"
    }
   ],
   "source": [
    "rand.randint(0,10)"
   ]
  },
  {
   "cell_type": "markdown",
   "id": "670f25c7",
   "metadata": {},
   "source": [
    "En particulier, `rand.randint(0,1)` génère une variable de Bernouilli équilibrée, de loi $\\mathcal{B}(0.5)$.\n",
    "Tester plusieurs fois la commande !"
   ]
  },
  {
   "cell_type": "markdown",
   "id": "9c67c653",
   "metadata": {},
   "source": [
    "On peut également utiliser `randrange(a,b,s)`, qui retourne un élément choisi uniformément au hasard dans la liste définie par `randrange(a,b,s)`, autrement dit $[a,b[\\cap\\left(a+s\\mathbb{N}\\right)$."
   ]
  },
  {
   "cell_type": "code",
   "execution_count": 24,
   "id": "0b8ae940",
   "metadata": {},
   "outputs": [
    {
     "data": {
      "text/plain": [
       "8"
      ]
     },
     "execution_count": 24,
     "metadata": {},
     "output_type": "execute_result"
    }
   ],
   "source": [
    "rand.randrange(0,10,2)"
   ]
  },
  {
   "cell_type": "markdown",
   "id": "364d4f52",
   "metadata": {},
   "source": [
    "**Exercice :**\n",
    "\n",
    "Compléter le code suivant pour que la fonction `echantillon(n)` retourne une liste de `L` de longueur $n$, constituée de tirages indépendants de loi $\\mathcal{B}(0.5)$."
   ]
  },
  {
   "cell_type": "code",
   "execution_count": 25,
   "id": "5cf176ea",
   "metadata": {},
   "outputs": [],
   "source": [
    "def echantillon(n):\n",
    "    # Code à remplir    \n",
    "    return L"
   ]
  },
  {
   "cell_type": "code",
   "execution_count": 26,
   "id": "fc4bf0a1",
   "metadata": {},
   "outputs": [],
   "source": [
    "### Correction indicative ###\n"
   ]
  },
  {
   "cell_type": "markdown",
   "id": "782ffa68",
   "metadata": {},
   "source": [
    "## 5. Génération d'entiers aléatoires avec le module `numpy.random`"
   ]
  },
  {
   "cell_type": "markdown",
   "id": "47b07ae0",
   "metadata": {},
   "source": [
    "Dans la partie précédente, on a facilement pu modéliser des variables aléatoires à valeurs dans un ensemble *fini*. Malheureusement, cette approche est assez inadaptée pour des variables à valeurs dans un ensemble *dénombrable*, ce qui est en particulier le cas des lois de Poisson. Pour ce faire, le module `numpy` par exemple dispose de son propre sous-module  `numpy.random` dédié à la génération de variables aléatoires (une liste exhaustive des lois de probabilité utilisables est dans [la documentation](https://numpy.org/doc/stable/reference/random/generator.html#distributions)).\n",
    "\n",
    "On peut par exemple faire appel à une loi binomiale $\\mathcal{B}(n,p)$ avec `np.random.binomial(n,p)` :"
   ]
  },
  {
   "cell_type": "code",
   "execution_count": 27,
   "id": "771b0a16",
   "metadata": {},
   "outputs": [
    {
     "data": {
      "text/plain": [
       "4"
      ]
     },
     "execution_count": 27,
     "metadata": {},
     "output_type": "execute_result"
    }
   ],
   "source": [
    "np.random.binomial(10,.3)"
   ]
  },
  {
   "cell_type": "markdown",
   "id": "4a70fd0e",
   "metadata": {},
   "source": [
    "On peut également directement générer un échantillon de $k$ tirages indépendants avec `np.random.binomial(n,p,k)`, sous la forme d'un tableau numpy :"
   ]
  },
  {
   "cell_type": "code",
   "execution_count": 28,
   "id": "16dc4be1",
   "metadata": {},
   "outputs": [
    {
     "data": {
      "text/plain": [
       "array([7, 7, 6, 4, 2, 5, 5, 6, 8, 4, 5, 5, 3, 3, 3, 5, 6, 3, 7, 3])"
      ]
     },
     "execution_count": 28,
     "metadata": {},
     "output_type": "execute_result"
    }
   ],
   "source": [
    "np.random.binomial(10,.5,20)"
   ]
  },
  {
   "cell_type": "markdown",
   "id": "cc09a255",
   "metadata": {},
   "source": [
    "On peut de même générer une loi géométrique $\\mathcal{G}(p)$ via  `np.random.geometric(p)`, une loi de Poisson $\\mathcal{P}(s)$ via `np.random.poisson(s)`, ou une loi de Zipf de paramètre $a\\in\\mathbb{R}_{> 1}$ via `np.random.zipf(a)`."
   ]
  },
  {
   "cell_type": "markdown",
   "id": "e046d8cf",
   "metadata": {},
   "source": [
    "**Exercice :**\n",
    "\n",
    "On considère une pièce de monnaie truquée, dont la probabilité de tomber sur pile est 1/4. \n",
    "On modèlise les lancers succesifs de la pièce par une suite de variables aléatoires indépendantes de loi de Bernoulli de paramètre 1/4. On lance la pièce et on s'arrête dès qu'on est tombé sur pile.\n",
    "En utilisant une boucle `while`, déterminer le nombre (aléatoire) nécessaire de lancers."
   ]
  },
  {
   "cell_type": "code",
   "execution_count": 29,
   "id": "9a7b8a17",
   "metadata": {},
   "outputs": [],
   "source": [
    "# Solution\n"
   ]
  },
  {
   "cell_type": "markdown",
   "id": "ab126920",
   "metadata": {},
   "source": [
    "Tester plusieurs fois le programme en changeant la probabilité de succès."
   ]
  },
  {
   "cell_type": "markdown",
   "id": "75e4544c",
   "metadata": {},
   "source": [
    "## 6. Représentation graphique d'une loi discrète"
   ]
  },
  {
   "cell_type": "markdown",
   "id": "0474f2ff",
   "metadata": {},
   "source": [
    "Pour représenter graphiquement la loi d'une variable discrète, il peut être pertinent d'utiliser des *diagrammes en bâtons* plus spécifiquement.\n",
    "\n",
    "Considérons ainsi la fonction `binom(n,p,k)`, qui calcule $\\mathbb{P}(X=k)$ pour une variable binômiale $X\\sim\\mathcal{B}(n,p)$."
   ]
  },
  {
   "cell_type": "code",
   "execution_count": 2,
   "id": "e9f28b9c",
   "metadata": {},
   "outputs": [],
   "source": [
    "from math import comb\n",
    "# comb(n,k) retourne le coefficient binômial « k parmi n ».\n",
    "\n",
    "def binom(n,p,k):\n",
    "    if k <= n and k >= 0 :\n",
    "        return comb(n,k)*p**k*(1-p)**(n-k)\n",
    "    else:\n",
    "        return 0"
   ]
  },
  {
   "cell_type": "markdown",
   "id": "801401fe",
   "metadata": {},
   "source": [
    "On sait qu'une telle variable prend des valeurs entre $0$ et $n$. On peut alors afficher sa distribution via le diagramme en bâtons (*bar plot* en anglais) suivant."
   ]
  },
  {
   "cell_type": "code",
   "execution_count": 3,
   "id": "4a8767c7",
   "metadata": {},
   "outputs": [
    {
     "data": {
      "image/png": "[encoded data removed]",
      "text/plain": [
       "<Figure size 640x480 with 1 Axes>"
      ]
     },
     "metadata": {},
     "output_type": "display_data"
    }
   ],
   "source": [
    "n5 = 10\n",
    "p5 = .5\n",
    "\n",
    "X5 = np.arange(n5+1)\n",
    "P5 = [binom(n5,p5,k) for k in X5]\n",
    "\n",
    "width5 = 0.1\n",
    "plt.xticks(X5)\n",
    "plt.xlabel('k')\n",
    "plt.ylabel('P(X = k)')\n",
    "plt.title('Étude de la loi de X ~ B('+str(n5)+','+str(p5)+')')\n",
    "plt.bar(X5,P5,width5,color='magenta',label='Distribution théorique')\n",
    "plt.legend()\n",
    "plt.show()"
   ]
  },
  {
   "cell_type": "markdown",
   "id": "0244ba99",
   "metadata": {},
   "source": [
    "Dans le cas de variables aléatoires à valeurs non-numériques, on peut également utiliser une liste de mots pour l'axe horizontal."
   ]
  },
  {
   "cell_type": "code",
   "execution_count": 11,
   "id": "f165b5f3",
   "metadata": {},
   "outputs": [
    {
     "data": {
      "image/png": "[encoded data removed]",
      "text/plain": [
       "<Figure size 640x480 with 1 Axes>"
      ]
     },
     "metadata": {},
     "output_type": "display_data"
    }
   ],
   "source": [
    "A5 = ['Soleil','Pluie','Guerre thermonucléaire globale']\n",
    "B5 = [0.3,0.1,0.6]\n",
    "plt.bar(A5,B5,width=0.3,color='cyan')\n",
    "plt.show()"
   ]
  },
  {
   "cell_type": "markdown",
   "id": "b7693cb5",
   "metadata": {},
   "source": [
    "**Exercice :**\n",
    "\n",
    "On aimerait comparer une distribution théorique à la distribution empirique observée sur un échantillon aléatoire, qu'on va écrire dans une liste `Q`.\n",
    "\n",
    "Plus précisément, si $(x_1,\\ldots,x_n)$ est un échantillon issu d'une certaine loi de probabilité `P`, c'est-à-dire la réalisation de $n$ variables aléatoires indépendantes et de même loi `P`, on définit la mesure empirique `Q` comme étant la probabilité\n",
    "$$\n",
    "Q(y)=\\frac{\\text{Card}\\{i\\in \\{1,\\ldots,n\\} \\, | \\, x_i=y\\}}{n},\n",
    "$$\n",
    "c'est-à-dire la fréquence d'apparition de $y$ dans l'échantillon. \n",
    "\n",
    "Par exemple, si on considère un échantillon de taille $10$,\n",
    "et qu'on observe $5$ fois l'entier $3$ dans cet échantillon,\n",
    "on veut avoir `Q[3]=0.5`.\n",
    "\n",
    "Soit `P` la loi biniomiale $\\mathcal B(n,p)$. Après avoir généré la densité empirique `Q` à l'intérieur de la fonction `echantillon5(n,p,taille)` dans le bloc 1, représentez son diagramme sur le même graphe que celui de `P`, côte à côte, dans le bloc 2."
   ]
  },
  {
   "cell_type": "code",
   "execution_count": 33,
   "id": "00c0eefc",
   "metadata": {},
   "outputs": [],
   "source": [
    "### BLOC 1 ###\n",
    "\n",
    "def echantillon5(n,p,taille):\n",
    "    # Code à remplir\n",
    "    return Q"
   ]
  },
  {
   "cell_type": "code",
   "execution_count": 34,
   "id": "371f44d9",
   "metadata": {},
   "outputs": [],
   "source": [
    "### Correction indicative ###\n"
   ]
  },
  {
   "cell_type": "markdown",
   "id": "bf45f9fa",
   "metadata": {},
   "source": [
    "<details>\n",
    "<summary><b>Cliquer ici pour un indice sur l'affichage graphique.</b></summary>\n",
    "\n",
    "Dans le diagramme précédent, l'instruction `plt.bar(X,P)` dit d'afficher la $k$-ième barre, de hauteur `P[k]`, à la position `X[k]`.\n",
    "Ainsi, en utilisant à la place l'instruction `plt.bar(X+width/2,P)`, on décalera les barres légèrement sur la droite.\n",
    "En décalant de même les barres pour `Q` sur la gauche via `plt.bar(X-width/2,Q)`, on peut alors juxtaposer les deux diagrammes sans perte de lisibilité.\n",
    "</details>"
   ]
  },
  {
   "cell_type": "code",
   "execution_count": null,
   "id": "6e8a6c35",
   "metadata": {},
   "outputs": [],
   "source": [
    "### BLOC 2 ###\n",
    "\n",
    "taille5 = 1000\n",
    "Q5 = echantillon5(n5,p5,taille5)\n",
    "\n",
    "# À vous de jouer !"
   ]
  },
  {
   "cell_type": "code",
   "execution_count": 33,
   "id": "e33f2753",
   "metadata": {
    "scrolled": false
   },
   "outputs": [],
   "source": [
    "### Correction indicative ###\n"
   ]
  },
  {
   "cell_type": "markdown",
   "id": "ecc10f47",
   "metadata": {},
   "source": [
    "## 7. Représentation de la loi de Poisson"
   ]
  },
  {
   "cell_type": "markdown",
   "id": "66f13195",
   "metadata": {},
   "source": [
    "**Exercice :**\n",
    "\n",
    "On veut représenter via un diagramme en bâtons, la loi de Poisson de paramètre $\\lambda$, pour différentes valeurs de $\\lambda$. \n",
    "\n",
    "Commencer par rappeler l'expression de la loi de Poisson. \n",
    "\n",
    "Ecrire une fonction `fact` qui calcule la factorielle d'un entier. \n",
    "\n",
    "En vous inspirant de l'exemple de la binomiale, représenter via un diagramme en bâtons, la loi de Poisson de paramètre $\\lambda=0.5,1,2$. Que remarque-t-on ?"
   ]
  },
  {
   "cell_type": "code",
   "execution_count": 35,
   "id": "0da13466",
   "metadata": {},
   "outputs": [],
   "source": [
    "# Solution :\n"
   ]
  },
  {
   "cell_type": "code",
   "execution_count": 36,
   "id": "0ff48472",
   "metadata": {},
   "outputs": [],
   "source": [
    "# Solution\n"
   ]
  },
  {
   "cell_type": "markdown",
   "id": "7fd95259",
   "metadata": {},
   "source": [
    "## 8. Somme de variables de Poisson indépendantes"
   ]
  },
  {
   "cell_type": "markdown",
   "id": "29b70623",
   "metadata": {},
   "source": [
    "On va comparer la distribution empirique d'une somme de deux lois de Poisson $\\mathcal{P}(a)$ et $\\mathcal{P}(b)$ indépendantes à la loi de Poisson $\\mathcal{P}(a+b)$.\n",
    "\n",
    "Cette comparaison se fera sous forme de diagrammes en bâtons. Étant donné que la distribution théorique est à valeurs dans $\\mathbb{N}$ tout entier, on pourra se restreindre aux $20$ premières valeurs par exemple, avec $a=2$ et $b=3$ par exemple."
   ]
  },
  {
   "cell_type": "code",
   "execution_count": 37,
   "id": "ee0e612d",
   "metadata": {},
   "outputs": [],
   "source": [
    "# À vous de jouer !"
   ]
  },
  {
   "cell_type": "code",
   "execution_count": null,
   "id": "5c0d8b58",
   "metadata": {},
   "outputs": [],
   "source": [
    "### Correction indicative ###\n"
   ]
  },
  {
   "cell_type": "markdown",
   "id": "72b9ee60",
   "metadata": {},
   "source": [
    "Que remarque-t-on ?"
   ]
  }
 ],
 "metadata": {
  "kernelspec": {
   "display_name": "Python 3 (ipykernel)",
   "language": "python",
   "name": "python3"
  },
  "language_info": {
   "codemirror_mode": {
    "name": "ipython",
    "version": 3
   },
   "file_extension": ".py",
   "mimetype": "text/x-python",
   "name": "python",
   "nbconvert_exporter": "python",
   "pygments_lexer": "ipython3",
   "version": "3.10.9"
  }
 },
 "nbformat": 4,
 "nbformat_minor": 5
}
